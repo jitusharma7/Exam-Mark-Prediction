{
 "cells": [
  {
   "cell_type": "code",
   "execution_count": 1,
   "metadata": {},
   "outputs": [],
   "source": [
    "\n",
    "import numpy as np\n",
    "import pandas as pd\n",
    "\n",
    "\n",
    "from sklearn.model_selection import train_test_split\n",
    "\n",
    "import statsmodels\n",
    "from statsmodels.stats.outliers_influence import variance_inflation_factor\n",
    "from statsmodels.tools.tools import add_constant\n",
    "from statsmodels.compat import lzip\n",
    "import statsmodels.api as sm\n",
    "from statsmodels.formula.api import ols\n",
    "\n",
    "from scipy import stats\n",
    "import scipy.stats as stats\n",
    "import matplotlib.pyplot as plt\n",
    "\n",
    "import os\n",
    "import seaborn as sns\n",
    "\n",
    "%matplotlib inline"
   ]
  },
  {
   "cell_type": "code",
   "execution_count": 2,
   "metadata": {},
   "outputs": [
    {
     "data": {
      "text/html": [
       "<div>\n",
       "<style scoped>\n",
       "    .dataframe tbody tr th:only-of-type {\n",
       "        vertical-align: middle;\n",
       "    }\n",
       "\n",
       "    .dataframe tbody tr th {\n",
       "        vertical-align: top;\n",
       "    }\n",
       "\n",
       "    .dataframe thead th {\n",
       "        text-align: right;\n",
       "    }\n",
       "</style>\n",
       "<table border=\"1\" class=\"dataframe\">\n",
       "  <thead>\n",
       "    <tr style=\"text-align: right;\">\n",
       "      <th></th>\n",
       "      <th>Unnamed: 0</th>\n",
       "      <th>gender</th>\n",
       "      <th>ethnicity</th>\n",
       "      <th>parental level of education</th>\n",
       "      <th>lunch</th>\n",
       "      <th>test preparation course</th>\n",
       "      <th>reading score</th>\n",
       "      <th>writing score</th>\n",
       "      <th>math score</th>\n",
       "    </tr>\n",
       "  </thead>\n",
       "  <tbody>\n",
       "    <tr>\n",
       "      <th>0</th>\n",
       "      <td>0</td>\n",
       "      <td>male</td>\n",
       "      <td>group C</td>\n",
       "      <td>some college</td>\n",
       "      <td>standard</td>\n",
       "      <td>none</td>\n",
       "      <td>61</td>\n",
       "      <td>62</td>\n",
       "      <td>61</td>\n",
       "    </tr>\n",
       "    <tr>\n",
       "      <th>1</th>\n",
       "      <td>1</td>\n",
       "      <td>female</td>\n",
       "      <td>group C</td>\n",
       "      <td>associate's degree</td>\n",
       "      <td>standard</td>\n",
       "      <td>none</td>\n",
       "      <td>62</td>\n",
       "      <td>53</td>\n",
       "      <td>53</td>\n",
       "    </tr>\n",
       "    <tr>\n",
       "      <th>2</th>\n",
       "      <td>2</td>\n",
       "      <td>female</td>\n",
       "      <td>group C</td>\n",
       "      <td>some college</td>\n",
       "      <td>free/reduced</td>\n",
       "      <td>completed</td>\n",
       "      <td>75</td>\n",
       "      <td>70</td>\n",
       "      <td>67</td>\n",
       "    </tr>\n",
       "    <tr>\n",
       "      <th>3</th>\n",
       "      <td>3</td>\n",
       "      <td>male</td>\n",
       "      <td>group C</td>\n",
       "      <td>some high school</td>\n",
       "      <td>free/reduced</td>\n",
       "      <td>none</td>\n",
       "      <td>76</td>\n",
       "      <td>65</td>\n",
       "      <td>79</td>\n",
       "    </tr>\n",
       "    <tr>\n",
       "      <th>4</th>\n",
       "      <td>4</td>\n",
       "      <td>male</td>\n",
       "      <td>group A</td>\n",
       "      <td>high school</td>\n",
       "      <td>free/reduced</td>\n",
       "      <td>none</td>\n",
       "      <td>58</td>\n",
       "      <td>44</td>\n",
       "      <td>53</td>\n",
       "    </tr>\n",
       "  </tbody>\n",
       "</table>\n",
       "</div>"
      ],
      "text/plain": [
       "   Unnamed: 0  gender ethnicity parental level of education         lunch  \\\n",
       "0           0    male   group C                some college      standard   \n",
       "1           1  female   group C          associate's degree      standard   \n",
       "2           2  female   group C                some college  free/reduced   \n",
       "3           3    male   group C            some high school  free/reduced   \n",
       "4           4    male   group A                 high school  free/reduced   \n",
       "\n",
       "  test preparation course  reading score  writing score  math score  \n",
       "0                    none             61             62          61  \n",
       "1                    none             62             53          53  \n",
       "2               completed             75             70          67  \n",
       "3                    none             76             65          79  \n",
       "4                    none             58             44          53  "
      ]
     },
     "execution_count": 2,
     "metadata": {},
     "output_type": "execute_result"
    }
   ],
   "source": [
    "# Reading dataset and creating dataframe\n",
    "\n",
    "marks = pd.read_csv(r\"C:\\Users\\Administrator\\Desktop\\Competition\\dockship_Exam Marks\\exam_mark_prediction_ai_challenge-dataset\\train.csv\")\n",
    "marks.head() # show 5 rows and all columns of dataframe"
   ]
  },
  {
   "cell_type": "code",
   "execution_count": 3,
   "metadata": {},
   "outputs": [],
   "source": [
    "marks = marks.drop(['Unnamed: 0'],axis = 1)"
   ]
  },
  {
   "cell_type": "code",
   "execution_count": 4,
   "metadata": {},
   "outputs": [
    {
     "data": {
      "text/html": [
       "<div>\n",
       "<style scoped>\n",
       "    .dataframe tbody tr th:only-of-type {\n",
       "        vertical-align: middle;\n",
       "    }\n",
       "\n",
       "    .dataframe tbody tr th {\n",
       "        vertical-align: top;\n",
       "    }\n",
       "\n",
       "    .dataframe thead th {\n",
       "        text-align: right;\n",
       "    }\n",
       "</style>\n",
       "<table border=\"1\" class=\"dataframe\">\n",
       "  <thead>\n",
       "    <tr style=\"text-align: right;\">\n",
       "      <th></th>\n",
       "      <th>gender</th>\n",
       "      <th>ethnicity</th>\n",
       "      <th>parental level of education</th>\n",
       "      <th>lunch</th>\n",
       "      <th>test preparation course</th>\n",
       "      <th>reading score</th>\n",
       "      <th>writing score</th>\n",
       "      <th>math score</th>\n",
       "    </tr>\n",
       "  </thead>\n",
       "  <tbody>\n",
       "    <tr>\n",
       "      <th>0</th>\n",
       "      <td>male</td>\n",
       "      <td>group C</td>\n",
       "      <td>some college</td>\n",
       "      <td>standard</td>\n",
       "      <td>none</td>\n",
       "      <td>61</td>\n",
       "      <td>62</td>\n",
       "      <td>61</td>\n",
       "    </tr>\n",
       "    <tr>\n",
       "      <th>1</th>\n",
       "      <td>female</td>\n",
       "      <td>group C</td>\n",
       "      <td>associate's degree</td>\n",
       "      <td>standard</td>\n",
       "      <td>none</td>\n",
       "      <td>62</td>\n",
       "      <td>53</td>\n",
       "      <td>53</td>\n",
       "    </tr>\n",
       "    <tr>\n",
       "      <th>2</th>\n",
       "      <td>female</td>\n",
       "      <td>group C</td>\n",
       "      <td>some college</td>\n",
       "      <td>free/reduced</td>\n",
       "      <td>completed</td>\n",
       "      <td>75</td>\n",
       "      <td>70</td>\n",
       "      <td>67</td>\n",
       "    </tr>\n",
       "    <tr>\n",
       "      <th>3</th>\n",
       "      <td>male</td>\n",
       "      <td>group C</td>\n",
       "      <td>some high school</td>\n",
       "      <td>free/reduced</td>\n",
       "      <td>none</td>\n",
       "      <td>76</td>\n",
       "      <td>65</td>\n",
       "      <td>79</td>\n",
       "    </tr>\n",
       "    <tr>\n",
       "      <th>4</th>\n",
       "      <td>male</td>\n",
       "      <td>group A</td>\n",
       "      <td>high school</td>\n",
       "      <td>free/reduced</td>\n",
       "      <td>none</td>\n",
       "      <td>58</td>\n",
       "      <td>44</td>\n",
       "      <td>53</td>\n",
       "    </tr>\n",
       "  </tbody>\n",
       "</table>\n",
       "</div>"
      ],
      "text/plain": [
       "   gender ethnicity parental level of education         lunch  \\\n",
       "0    male   group C                some college      standard   \n",
       "1  female   group C          associate's degree      standard   \n",
       "2  female   group C                some college  free/reduced   \n",
       "3    male   group C            some high school  free/reduced   \n",
       "4    male   group A                 high school  free/reduced   \n",
       "\n",
       "  test preparation course  reading score  writing score  math score  \n",
       "0                    none             61             62          61  \n",
       "1                    none             62             53          53  \n",
       "2               completed             75             70          67  \n",
       "3                    none             76             65          79  \n",
       "4                    none             58             44          53  "
      ]
     },
     "execution_count": 4,
     "metadata": {},
     "output_type": "execute_result"
    }
   ],
   "source": [
    "marks.head()"
   ]
  },
  {
   "cell_type": "code",
   "execution_count": 5,
   "metadata": {},
   "outputs": [
    {
     "data": {
      "image/png": "[encoded data removed]",
      "text/plain": [
       "<Figure size 432x288 with 1 Axes>"
      ]
     },
     "metadata": {
      "needs_background": "light"
     },
     "output_type": "display_data"
    }
   ],
   "source": [
    "##outlier present \n",
    "marks_reading = sns.boxplot( x='reading score', \n",
    "                 data=marks, \n",
    "                 width=0.5,\n",
    "                 palette=\"colorblind\")"
   ]
  },
  {
   "cell_type": "code",
   "execution_count": 6,
   "metadata": {},
   "outputs": [
    {
     "data": {
      "image/png": "[encoded data removed]",
      "text/plain": [
       "<Figure size 432x288 with 1 Axes>"
      ]
     },
     "metadata": {
      "needs_background": "light"
     },
     "output_type": "display_data"
    }
   ],
   "source": [
    "##outlier present \n",
    "marks_reading = sns.boxplot( x='writing score', \n",
    "                 data=marks, \n",
    "                 width=0.5,\n",
    "                 palette=\"colorblind\")"
   ]
  },
  {
   "cell_type": "code",
   "execution_count": 7,
   "metadata": {},
   "outputs": [
    {
     "data": {
      "text/html": [
       "<div>\n",
       "<style scoped>\n",
       "    .dataframe tbody tr th:only-of-type {\n",
       "        vertical-align: middle;\n",
       "    }\n",
       "\n",
       "    .dataframe tbody tr th {\n",
       "        vertical-align: top;\n",
       "    }\n",
       "\n",
       "    .dataframe thead th {\n",
       "        text-align: right;\n",
       "    }\n",
       "</style>\n",
       "<table border=\"1\" class=\"dataframe\">\n",
       "  <thead>\n",
       "    <tr style=\"text-align: right;\">\n",
       "      <th></th>\n",
       "      <th>gender</th>\n",
       "      <th>ethnicity</th>\n",
       "      <th>parental level of education</th>\n",
       "      <th>lunch</th>\n",
       "      <th>test preparation course</th>\n",
       "      <th>reading score</th>\n",
       "      <th>writing score</th>\n",
       "      <th>math score</th>\n",
       "    </tr>\n",
       "  </thead>\n",
       "  <tbody>\n",
       "    <tr>\n",
       "      <th>0</th>\n",
       "      <td>male</td>\n",
       "      <td>group C</td>\n",
       "      <td>some college</td>\n",
       "      <td>standard</td>\n",
       "      <td>none</td>\n",
       "      <td>61</td>\n",
       "      <td>62</td>\n",
       "      <td>61</td>\n",
       "    </tr>\n",
       "    <tr>\n",
       "      <th>1</th>\n",
       "      <td>female</td>\n",
       "      <td>group C</td>\n",
       "      <td>associate's degree</td>\n",
       "      <td>standard</td>\n",
       "      <td>none</td>\n",
       "      <td>62</td>\n",
       "      <td>53</td>\n",
       "      <td>53</td>\n",
       "    </tr>\n",
       "    <tr>\n",
       "      <th>2</th>\n",
       "      <td>female</td>\n",
       "      <td>group C</td>\n",
       "      <td>some college</td>\n",
       "      <td>free/reduced</td>\n",
       "      <td>completed</td>\n",
       "      <td>75</td>\n",
       "      <td>70</td>\n",
       "      <td>67</td>\n",
       "    </tr>\n",
       "    <tr>\n",
       "      <th>3</th>\n",
       "      <td>male</td>\n",
       "      <td>group C</td>\n",
       "      <td>some high school</td>\n",
       "      <td>free/reduced</td>\n",
       "      <td>none</td>\n",
       "      <td>76</td>\n",
       "      <td>65</td>\n",
       "      <td>79</td>\n",
       "    </tr>\n",
       "    <tr>\n",
       "      <th>4</th>\n",
       "      <td>male</td>\n",
       "      <td>group A</td>\n",
       "      <td>high school</td>\n",
       "      <td>free/reduced</td>\n",
       "      <td>none</td>\n",
       "      <td>58</td>\n",
       "      <td>44</td>\n",
       "      <td>53</td>\n",
       "    </tr>\n",
       "  </tbody>\n",
       "</table>\n",
       "</div>"
      ],
      "text/plain": [
       "   gender ethnicity parental level of education         lunch  \\\n",
       "0    male   group C                some college      standard   \n",
       "1  female   group C          associate's degree      standard   \n",
       "2  female   group C                some college  free/reduced   \n",
       "3    male   group C            some high school  free/reduced   \n",
       "4    male   group A                 high school  free/reduced   \n",
       "\n",
       "  test preparation course  reading score  writing score  math score  \n",
       "0                    none             61             62          61  \n",
       "1                    none             62             53          53  \n",
       "2               completed             75             70          67  \n",
       "3                    none             76             65          79  \n",
       "4                    none             58             44          53  "
      ]
     },
     "execution_count": 7,
     "metadata": {},
     "output_type": "execute_result"
    }
   ],
   "source": [
    "marks.head()"
   ]
  },
  {
   "cell_type": "markdown",
   "metadata": {},
   "source": [
    "## outlier removal"
   ]
  },
  {
   "cell_type": "code",
   "execution_count": 8,
   "metadata": {},
   "outputs": [],
   "source": [
    "marks_Z = np.abs(stats.zscore(marks[[\"reading score\",\"writing score\"]]))"
   ]
  },
  {
   "cell_type": "code",
   "execution_count": 9,
   "metadata": {},
   "outputs": [
    {
     "data": {
      "text/plain": [
       "array([[0.59980548, 0.42706749],\n",
       "       [0.53126747, 1.01865174],\n",
       "       [0.35972663, 0.09878518],\n",
       "       ...,\n",
       "       [0.66834349, 0.36133591],\n",
       "       [0.49680265, 0.36171151],\n",
       "       [0.22265061, 0.03267799]])"
      ]
     },
     "execution_count": 9,
     "metadata": {},
     "output_type": "execute_result"
    }
   ],
   "source": [
    "marks_Z"
   ]
  },
  {
   "cell_type": "code",
   "execution_count": 10,
   "metadata": {},
   "outputs": [
    {
     "name": "stdout",
     "output_type": "stream",
     "text": [
      "(array([140, 140, 286, 623, 623], dtype=int64), array([0, 1, 0, 0, 1], dtype=int64))\n"
     ]
    }
   ],
   "source": [
    "print(np.where(marks_Z > 3))"
   ]
  },
  {
   "cell_type": "code",
   "execution_count": 11,
   "metadata": {},
   "outputs": [
    {
     "data": {
      "text/html": [
       "<div>\n",
       "<style scoped>\n",
       "    .dataframe tbody tr th:only-of-type {\n",
       "        vertical-align: middle;\n",
       "    }\n",
       "\n",
       "    .dataframe tbody tr th {\n",
       "        vertical-align: top;\n",
       "    }\n",
       "\n",
       "    .dataframe thead th {\n",
       "        text-align: right;\n",
       "    }\n",
       "</style>\n",
       "<table border=\"1\" class=\"dataframe\">\n",
       "  <thead>\n",
       "    <tr style=\"text-align: right;\">\n",
       "      <th></th>\n",
       "      <th>gender</th>\n",
       "      <th>ethnicity</th>\n",
       "      <th>parental level of education</th>\n",
       "      <th>lunch</th>\n",
       "      <th>test preparation course</th>\n",
       "      <th>reading score</th>\n",
       "      <th>writing score</th>\n",
       "      <th>math score</th>\n",
       "    </tr>\n",
       "  </thead>\n",
       "  <tbody>\n",
       "    <tr>\n",
       "      <th>140</th>\n",
       "      <td>male</td>\n",
       "      <td>group B</td>\n",
       "      <td>high school</td>\n",
       "      <td>free/reduced</td>\n",
       "      <td>none</td>\n",
       "      <td>24</td>\n",
       "      <td>15</td>\n",
       "      <td>30</td>\n",
       "    </tr>\n",
       "    <tr>\n",
       "      <th>286</th>\n",
       "      <td>female</td>\n",
       "      <td>group B</td>\n",
       "      <td>high school</td>\n",
       "      <td>free/reduced</td>\n",
       "      <td>none</td>\n",
       "      <td>24</td>\n",
       "      <td>23</td>\n",
       "      <td>8</td>\n",
       "    </tr>\n",
       "    <tr>\n",
       "      <th>623</th>\n",
       "      <td>male</td>\n",
       "      <td>group A</td>\n",
       "      <td>some college</td>\n",
       "      <td>free/reduced</td>\n",
       "      <td>none</td>\n",
       "      <td>23</td>\n",
       "      <td>19</td>\n",
       "      <td>28</td>\n",
       "    </tr>\n",
       "  </tbody>\n",
       "</table>\n",
       "</div>"
      ],
      "text/plain": [
       "     gender ethnicity parental level of education         lunch  \\\n",
       "140    male   group B                 high school  free/reduced   \n",
       "286  female   group B                 high school  free/reduced   \n",
       "623    male   group A                some college  free/reduced   \n",
       "\n",
       "    test preparation course  reading score  writing score  math score  \n",
       "140                    none             24             15          30  \n",
       "286                    none             24             23           8  \n",
       "623                    none             23             19          28  "
      ]
     },
     "execution_count": 11,
     "metadata": {},
     "output_type": "execute_result"
    }
   ],
   "source": [
    "marks.iloc[[140,286,623]]\n"
   ]
  },
  {
   "cell_type": "markdown",
   "metadata": {},
   "source": [
    "We can't remove these outlier since the student may be fail , so wenedd to reat with dataset"
   ]
  },
  {
   "cell_type": "code",
   "execution_count": 12,
   "metadata": {},
   "outputs": [
    {
     "data": {
      "text/html": [
       "<div>\n",
       "<style scoped>\n",
       "    .dataframe tbody tr th:only-of-type {\n",
       "        vertical-align: middle;\n",
       "    }\n",
       "\n",
       "    .dataframe tbody tr th {\n",
       "        vertical-align: top;\n",
       "    }\n",
       "\n",
       "    .dataframe thead th {\n",
       "        text-align: right;\n",
       "    }\n",
       "</style>\n",
       "<table border=\"1\" class=\"dataframe\">\n",
       "  <thead>\n",
       "    <tr style=\"text-align: right;\">\n",
       "      <th></th>\n",
       "      <th>gender</th>\n",
       "      <th>ethnicity</th>\n",
       "      <th>parental level of education</th>\n",
       "      <th>lunch</th>\n",
       "      <th>test preparation course</th>\n",
       "      <th>reading score</th>\n",
       "      <th>writing score</th>\n",
       "      <th>math score</th>\n",
       "    </tr>\n",
       "  </thead>\n",
       "  <tbody>\n",
       "    <tr>\n",
       "      <th>0</th>\n",
       "      <td>male</td>\n",
       "      <td>group C</td>\n",
       "      <td>some college</td>\n",
       "      <td>standard</td>\n",
       "      <td>none</td>\n",
       "      <td>61</td>\n",
       "      <td>62</td>\n",
       "      <td>61</td>\n",
       "    </tr>\n",
       "    <tr>\n",
       "      <th>1</th>\n",
       "      <td>female</td>\n",
       "      <td>group C</td>\n",
       "      <td>associate's degree</td>\n",
       "      <td>standard</td>\n",
       "      <td>none</td>\n",
       "      <td>62</td>\n",
       "      <td>53</td>\n",
       "      <td>53</td>\n",
       "    </tr>\n",
       "    <tr>\n",
       "      <th>2</th>\n",
       "      <td>female</td>\n",
       "      <td>group C</td>\n",
       "      <td>some college</td>\n",
       "      <td>free/reduced</td>\n",
       "      <td>completed</td>\n",
       "      <td>75</td>\n",
       "      <td>70</td>\n",
       "      <td>67</td>\n",
       "    </tr>\n",
       "    <tr>\n",
       "      <th>3</th>\n",
       "      <td>male</td>\n",
       "      <td>group C</td>\n",
       "      <td>some high school</td>\n",
       "      <td>free/reduced</td>\n",
       "      <td>none</td>\n",
       "      <td>76</td>\n",
       "      <td>65</td>\n",
       "      <td>79</td>\n",
       "    </tr>\n",
       "    <tr>\n",
       "      <th>4</th>\n",
       "      <td>male</td>\n",
       "      <td>group A</td>\n",
       "      <td>high school</td>\n",
       "      <td>free/reduced</td>\n",
       "      <td>none</td>\n",
       "      <td>58</td>\n",
       "      <td>44</td>\n",
       "      <td>53</td>\n",
       "    </tr>\n",
       "  </tbody>\n",
       "</table>\n",
       "</div>"
      ],
      "text/plain": [
       "   gender ethnicity parental level of education         lunch  \\\n",
       "0    male   group C                some college      standard   \n",
       "1  female   group C          associate's degree      standard   \n",
       "2  female   group C                some college  free/reduced   \n",
       "3    male   group C            some high school  free/reduced   \n",
       "4    male   group A                 high school  free/reduced   \n",
       "\n",
       "  test preparation course  reading score  writing score  math score  \n",
       "0                    none             61             62          61  \n",
       "1                    none             62             53          53  \n",
       "2               completed             75             70          67  \n",
       "3                    none             76             65          79  \n",
       "4                    none             58             44          53  "
      ]
     },
     "execution_count": 12,
     "metadata": {},
     "output_type": "execute_result"
    }
   ],
   "source": [
    "marks.head()"
   ]
  },
  {
   "cell_type": "code",
   "execution_count": 13,
   "metadata": {},
   "outputs": [
    {
     "data": {
      "text/plain": [
       "Index(['gender', 'ethnicity', 'parental level of education', 'lunch',\n",
       "       'test preparation course', 'reading score', 'writing score',\n",
       "       'math score'],\n",
       "      dtype='object')"
      ]
     },
     "execution_count": 13,
     "metadata": {},
     "output_type": "execute_result"
    }
   ],
   "source": [
    "marks.columns"
   ]
  },
  {
   "cell_type": "code",
   "execution_count": 14,
   "metadata": {},
   "outputs": [
    {
     "data": {
      "text/plain": [
       "array(['male', 'female'], dtype=object)"
      ]
     },
     "execution_count": 14,
     "metadata": {},
     "output_type": "execute_result"
    }
   ],
   "source": [
    "\n",
    "marks['gender'].unique()"
   ]
  },
  {
   "cell_type": "code",
   "execution_count": 15,
   "metadata": {},
   "outputs": [
    {
     "name": "stdout",
     "output_type": "stream",
     "text": [
      "gender :  2  labels\n",
      "ethnicity :  5  labels\n",
      "parental level of education :  6  labels\n",
      "lunch :  2  labels\n",
      "test preparation course :  2  labels\n",
      "reading score :  70  labels\n",
      "writing score :  73  labels\n",
      "math score :  77  labels\n"
     ]
    }
   ],
   "source": [
    "for col in marks.columns:\n",
    "    print(col, ': ', len(marks[col].unique()), ' labels')"
   ]
  },
  {
   "cell_type": "code",
   "execution_count": 16,
   "metadata": {},
   "outputs": [
    {
     "data": {
      "text/plain": [
       "gender                         0\n",
       "ethnicity                      0\n",
       "parental level of education    0\n",
       "lunch                          0\n",
       "test preparation course        0\n",
       "reading score                  0\n",
       "writing score                  0\n",
       "math score                     0\n",
       "dtype: int64"
      ]
     },
     "execution_count": 16,
     "metadata": {},
     "output_type": "execute_result"
    }
   ],
   "source": [
    "## check any null value\n",
    "marks.isnull().sum()"
   ]
  },
  {
   "cell_type": "code",
   "execution_count": 17,
   "metadata": {},
   "outputs": [],
   "source": [
    "## relationship of various variable with math score\n",
    "M_G = marks.groupby('gender')"
   ]
  },
  {
   "cell_type": "code",
   "execution_count": 18,
   "metadata": {},
   "outputs": [
    {
     "data": {
      "text/html": [
       "<div>\n",
       "<style scoped>\n",
       "    .dataframe tbody tr th:only-of-type {\n",
       "        vertical-align: middle;\n",
       "    }\n",
       "\n",
       "    .dataframe tbody tr th {\n",
       "        vertical-align: top;\n",
       "    }\n",
       "\n",
       "    .dataframe thead th {\n",
       "        text-align: right;\n",
       "    }\n",
       "</style>\n",
       "<table border=\"1\" class=\"dataframe\">\n",
       "  <thead>\n",
       "    <tr style=\"text-align: right;\">\n",
       "      <th></th>\n",
       "      <th>reading score</th>\n",
       "      <th>writing score</th>\n",
       "      <th>math score</th>\n",
       "    </tr>\n",
       "    <tr>\n",
       "      <th>gender</th>\n",
       "      <th></th>\n",
       "      <th></th>\n",
       "      <th></th>\n",
       "    </tr>\n",
       "  </thead>\n",
       "  <tbody>\n",
       "    <tr>\n",
       "      <th>female</th>\n",
       "      <td>73.065395</td>\n",
       "      <td>72.901907</td>\n",
       "      <td>64.005450</td>\n",
       "    </tr>\n",
       "    <tr>\n",
       "      <th>male</th>\n",
       "      <td>66.099099</td>\n",
       "      <td>63.642643</td>\n",
       "      <td>69.129129</td>\n",
       "    </tr>\n",
       "  </tbody>\n",
       "</table>\n",
       "</div>"
      ],
      "text/plain": [
       "        reading score  writing score  math score\n",
       "gender                                          \n",
       "female      73.065395      72.901907   64.005450\n",
       "male        66.099099      63.642643   69.129129"
      ]
     },
     "execution_count": 18,
     "metadata": {},
     "output_type": "execute_result"
    }
   ],
   "source": [
    "M_G.mean()"
   ]
  },
  {
   "cell_type": "markdown",
   "metadata": {},
   "source": [
    "## showa that though female having higher socre in reading ,writing socre but math  score is less than male"
   ]
  },
  {
   "cell_type": "code",
   "execution_count": 19,
   "metadata": {},
   "outputs": [],
   "source": [
    "M_E = marks.groupby('ethnicity')"
   ]
  },
  {
   "cell_type": "code",
   "execution_count": 20,
   "metadata": {},
   "outputs": [
    {
     "data": {
      "text/html": [
       "<div>\n",
       "<style scoped>\n",
       "    .dataframe tbody tr th:only-of-type {\n",
       "        vertical-align: middle;\n",
       "    }\n",
       "\n",
       "    .dataframe tbody tr th {\n",
       "        vertical-align: top;\n",
       "    }\n",
       "\n",
       "    .dataframe thead th {\n",
       "        text-align: right;\n",
       "    }\n",
       "</style>\n",
       "<table border=\"1\" class=\"dataframe\">\n",
       "  <thead>\n",
       "    <tr style=\"text-align: right;\">\n",
       "      <th></th>\n",
       "      <th>reading score</th>\n",
       "      <th>writing score</th>\n",
       "      <th>math score</th>\n",
       "    </tr>\n",
       "    <tr>\n",
       "      <th>ethnicity</th>\n",
       "      <th></th>\n",
       "      <th></th>\n",
       "      <th></th>\n",
       "    </tr>\n",
       "  </thead>\n",
       "  <tbody>\n",
       "    <tr>\n",
       "      <th>group A</th>\n",
       "      <td>64.275862</td>\n",
       "      <td>61.620690</td>\n",
       "      <td>61.241379</td>\n",
       "    </tr>\n",
       "    <tr>\n",
       "      <th>group B</th>\n",
       "      <td>67.085106</td>\n",
       "      <td>65.163121</td>\n",
       "      <td>63.127660</td>\n",
       "    </tr>\n",
       "    <tr>\n",
       "      <th>group C</th>\n",
       "      <td>69.885845</td>\n",
       "      <td>68.538813</td>\n",
       "      <td>65.018265</td>\n",
       "    </tr>\n",
       "    <tr>\n",
       "      <th>group D</th>\n",
       "      <td>70.880435</td>\n",
       "      <td>71.173913</td>\n",
       "      <td>67.815217</td>\n",
       "    </tr>\n",
       "    <tr>\n",
       "      <th>group E</th>\n",
       "      <td>74.408163</td>\n",
       "      <td>72.244898</td>\n",
       "      <td>74.897959</td>\n",
       "    </tr>\n",
       "  </tbody>\n",
       "</table>\n",
       "</div>"
      ],
      "text/plain": [
       "           reading score  writing score  math score\n",
       "ethnicity                                          \n",
       "group A        64.275862      61.620690   61.241379\n",
       "group B        67.085106      65.163121   63.127660\n",
       "group C        69.885845      68.538813   65.018265\n",
       "group D        70.880435      71.173913   67.815217\n",
       "group E        74.408163      72.244898   74.897959"
      ]
     },
     "execution_count": 20,
     "metadata": {},
     "output_type": "execute_result"
    }
   ],
   "source": [
    "M_E.mean()"
   ]
  },
  {
   "cell_type": "markdown",
   "metadata": {},
   "source": [
    "## group A to E , reading,writing,math score increases\n",
    "\n"
   ]
  },
  {
   "cell_type": "code",
   "execution_count": 21,
   "metadata": {},
   "outputs": [
    {
     "data": {
      "text/plain": [
       "<matplotlib.axes._subplots.AxesSubplot at 0x23d04b7fe80>"
      ]
     },
     "execution_count": 21,
     "metadata": {},
     "output_type": "execute_result"
    },
    {
     "data": {
      "image/png": "[encoded data removed]",
      "text/plain": [
       "<Figure size 432x288 with 1 Axes>"
      ]
     },
     "metadata": {
      "needs_background": "light"
     },
     "output_type": "display_data"
    }
   ],
   "source": [
    "## distribution of reading,writing,math score\n",
    "sns.distplot(marks[\"math score\"])"
   ]
  },
  {
   "cell_type": "code",
   "execution_count": 22,
   "metadata": {},
   "outputs": [
    {
     "name": "stdout",
     "output_type": "stream",
     "text": [
      "AxesSubplot(0.125,0.125;0.775x0.755)\n",
      "AxesSubplot(0.125,0.125;0.775x0.755)\n"
     ]
    },
    {
     "data": {
      "image/png": "[encoded data removed]",
      "text/plain": [
       "<Figure size 432x288 with 1 Axes>"
      ]
     },
     "metadata": {
      "needs_background": "light"
     },
     "output_type": "display_data"
    }
   ],
   "source": [
    "# distribution of reading,writing score\n",
    "print(sns.distplot(marks[\"writing score\"]))\n",
    "print(sns.distplot(marks[\"reading score\"]))\n"
   ]
  },
  {
   "cell_type": "code",
   "execution_count": 23,
   "metadata": {},
   "outputs": [
    {
     "data": {
      "text/plain": [
       "<seaborn.axisgrid.PairGrid at 0x23d04ceebe0>"
      ]
     },
     "execution_count": 23,
     "metadata": {},
     "output_type": "execute_result"
    },
    {
     "data": {
      "image/png": "[encoded data removed]",
      "text/plain": [
       "<Figure size 610.5x540 with 12 Axes>"
      ]
     },
     "metadata": {
      "needs_background": "light"
     },
     "output_type": "display_data"
    }
   ],
   "source": [
    "sns.pairplot(marks,hue='gender')"
   ]
  },
  {
   "cell_type": "code",
   "execution_count": 24,
   "metadata": {},
   "outputs": [],
   "source": [
    "## scaling using min-max\n",
    "from sklearn.preprocessing import MinMaxScaler\n",
    "scaler = MinMaxScaler()"
   ]
  },
  {
   "cell_type": "code",
   "execution_count": 25,
   "metadata": {},
   "outputs": [],
   "source": [
    "cols_to_norm = ['reading score','writing score']\n",
    "marks[cols_to_norm] = scaler.fit_transform(marks[cols_to_norm])"
   ]
  },
  {
   "cell_type": "code",
   "execution_count": 26,
   "metadata": {},
   "outputs": [
    {
     "data": {
      "text/html": [
       "<div>\n",
       "<style scoped>\n",
       "    .dataframe tbody tr th:only-of-type {\n",
       "        vertical-align: middle;\n",
       "    }\n",
       "\n",
       "    .dataframe tbody tr th {\n",
       "        vertical-align: top;\n",
       "    }\n",
       "\n",
       "    .dataframe thead th {\n",
       "        text-align: right;\n",
       "    }\n",
       "</style>\n",
       "<table border=\"1\" class=\"dataframe\">\n",
       "  <thead>\n",
       "    <tr style=\"text-align: right;\">\n",
       "      <th></th>\n",
       "      <th>reading score</th>\n",
       "      <th>writing score</th>\n",
       "    </tr>\n",
       "  </thead>\n",
       "  <tbody>\n",
       "    <tr>\n",
       "      <th>0</th>\n",
       "      <td>0.493506</td>\n",
       "      <td>0.552941</td>\n",
       "    </tr>\n",
       "    <tr>\n",
       "      <th>1</th>\n",
       "      <td>0.506494</td>\n",
       "      <td>0.447059</td>\n",
       "    </tr>\n",
       "    <tr>\n",
       "      <th>2</th>\n",
       "      <td>0.675325</td>\n",
       "      <td>0.647059</td>\n",
       "    </tr>\n",
       "    <tr>\n",
       "      <th>3</th>\n",
       "      <td>0.688312</td>\n",
       "      <td>0.588235</td>\n",
       "    </tr>\n",
       "    <tr>\n",
       "      <th>4</th>\n",
       "      <td>0.454545</td>\n",
       "      <td>0.341176</td>\n",
       "    </tr>\n",
       "    <tr>\n",
       "      <th>...</th>\n",
       "      <td>...</td>\n",
       "      <td>...</td>\n",
       "    </tr>\n",
       "    <tr>\n",
       "      <th>695</th>\n",
       "      <td>0.753247</td>\n",
       "      <td>0.752941</td>\n",
       "    </tr>\n",
       "    <tr>\n",
       "      <th>696</th>\n",
       "      <td>0.818182</td>\n",
       "      <td>0.788235</td>\n",
       "    </tr>\n",
       "    <tr>\n",
       "      <th>697</th>\n",
       "      <td>0.480519</td>\n",
       "      <td>0.564706</td>\n",
       "    </tr>\n",
       "    <tr>\n",
       "      <th>698</th>\n",
       "      <td>0.701299</td>\n",
       "      <td>0.694118</td>\n",
       "    </tr>\n",
       "    <tr>\n",
       "      <th>699</th>\n",
       "      <td>0.649351</td>\n",
       "      <td>0.623529</td>\n",
       "    </tr>\n",
       "  </tbody>\n",
       "</table>\n",
       "<p>700 rows × 2 columns</p>\n",
       "</div>"
      ],
      "text/plain": [
       "     reading score  writing score\n",
       "0         0.493506       0.552941\n",
       "1         0.506494       0.447059\n",
       "2         0.675325       0.647059\n",
       "3         0.688312       0.588235\n",
       "4         0.454545       0.341176\n",
       "..             ...            ...\n",
       "695       0.753247       0.752941\n",
       "696       0.818182       0.788235\n",
       "697       0.480519       0.564706\n",
       "698       0.701299       0.694118\n",
       "699       0.649351       0.623529\n",
       "\n",
       "[700 rows x 2 columns]"
      ]
     },
     "execution_count": 26,
     "metadata": {},
     "output_type": "execute_result"
    }
   ],
   "source": [
    "marks[cols_to_norm]"
   ]
  },
  {
   "cell_type": "code",
   "execution_count": 27,
   "metadata": {},
   "outputs": [
    {
     "data": {
      "text/html": [
       "<div>\n",
       "<style scoped>\n",
       "    .dataframe tbody tr th:only-of-type {\n",
       "        vertical-align: middle;\n",
       "    }\n",
       "\n",
       "    .dataframe tbody tr th {\n",
       "        vertical-align: top;\n",
       "    }\n",
       "\n",
       "    .dataframe thead th {\n",
       "        text-align: right;\n",
       "    }\n",
       "</style>\n",
       "<table border=\"1\" class=\"dataframe\">\n",
       "  <thead>\n",
       "    <tr style=\"text-align: right;\">\n",
       "      <th></th>\n",
       "      <th>gender</th>\n",
       "      <th>ethnicity</th>\n",
       "      <th>parental level of education</th>\n",
       "      <th>lunch</th>\n",
       "      <th>test preparation course</th>\n",
       "      <th>reading score</th>\n",
       "      <th>writing score</th>\n",
       "      <th>math score</th>\n",
       "    </tr>\n",
       "  </thead>\n",
       "  <tbody>\n",
       "    <tr>\n",
       "      <th>0</th>\n",
       "      <td>male</td>\n",
       "      <td>group C</td>\n",
       "      <td>some college</td>\n",
       "      <td>standard</td>\n",
       "      <td>none</td>\n",
       "      <td>0.493506</td>\n",
       "      <td>0.552941</td>\n",
       "      <td>61</td>\n",
       "    </tr>\n",
       "    <tr>\n",
       "      <th>1</th>\n",
       "      <td>female</td>\n",
       "      <td>group C</td>\n",
       "      <td>associate's degree</td>\n",
       "      <td>standard</td>\n",
       "      <td>none</td>\n",
       "      <td>0.506494</td>\n",
       "      <td>0.447059</td>\n",
       "      <td>53</td>\n",
       "    </tr>\n",
       "    <tr>\n",
       "      <th>2</th>\n",
       "      <td>female</td>\n",
       "      <td>group C</td>\n",
       "      <td>some college</td>\n",
       "      <td>free/reduced</td>\n",
       "      <td>completed</td>\n",
       "      <td>0.675325</td>\n",
       "      <td>0.647059</td>\n",
       "      <td>67</td>\n",
       "    </tr>\n",
       "    <tr>\n",
       "      <th>3</th>\n",
       "      <td>male</td>\n",
       "      <td>group C</td>\n",
       "      <td>some high school</td>\n",
       "      <td>free/reduced</td>\n",
       "      <td>none</td>\n",
       "      <td>0.688312</td>\n",
       "      <td>0.588235</td>\n",
       "      <td>79</td>\n",
       "    </tr>\n",
       "    <tr>\n",
       "      <th>4</th>\n",
       "      <td>male</td>\n",
       "      <td>group A</td>\n",
       "      <td>high school</td>\n",
       "      <td>free/reduced</td>\n",
       "      <td>none</td>\n",
       "      <td>0.454545</td>\n",
       "      <td>0.341176</td>\n",
       "      <td>53</td>\n",
       "    </tr>\n",
       "  </tbody>\n",
       "</table>\n",
       "</div>"
      ],
      "text/plain": [
       "   gender ethnicity parental level of education         lunch  \\\n",
       "0    male   group C                some college      standard   \n",
       "1  female   group C          associate's degree      standard   \n",
       "2  female   group C                some college  free/reduced   \n",
       "3    male   group C            some high school  free/reduced   \n",
       "4    male   group A                 high school  free/reduced   \n",
       "\n",
       "  test preparation course  reading score  writing score  math score  \n",
       "0                    none       0.493506       0.552941          61  \n",
       "1                    none       0.506494       0.447059          53  \n",
       "2               completed       0.675325       0.647059          67  \n",
       "3                    none       0.688312       0.588235          79  \n",
       "4                    none       0.454545       0.341176          53  "
      ]
     },
     "execution_count": 27,
     "metadata": {},
     "output_type": "execute_result"
    }
   ],
   "source": [
    "marks.head()"
   ]
  },
  {
   "cell_type": "code",
   "execution_count": 28,
   "metadata": {
    "scrolled": true
   },
   "outputs": [
    {
     "name": "stdout",
     "output_type": "stream",
     "text": [
      "AxesSubplot(0.125,0.125;0.775x0.755)\n",
      "AxesSubplot(0.125,0.125;0.775x0.755)\n"
     ]
    },
    {
     "data": {
      "image/png": "[encoded data removed]",
      "text/plain": [
       "<Figure size 432x288 with 1 Axes>"
      ]
     },
     "metadata": {
      "needs_background": "light"
     },
     "output_type": "display_data"
    }
   ],
   "source": [
    "# distribution of reading,writing score\n",
    "print(sns.distplot(marks[\"writing score\"]))\n",
    "print(sns.distplot(marks[\"reading score\"]))\n"
   ]
  },
  {
   "cell_type": "code",
   "execution_count": 29,
   "metadata": {},
   "outputs": [
    {
     "data": {
      "text/plain": [
       "Index(['gender', 'ethnicity', 'parental level of education', 'lunch',\n",
       "       'test preparation course', 'reading score', 'writing score',\n",
       "       'math score'],\n",
       "      dtype='object')"
      ]
     },
     "execution_count": 29,
     "metadata": {},
     "output_type": "execute_result"
    }
   ],
   "source": [
    "marks.columns"
   ]
  },
  {
   "cell_type": "code",
   "execution_count": 30,
   "metadata": {},
   "outputs": [],
   "source": [
    "## create dummy variables\n",
    "## create dummy variable\n",
    "gender_dummy = pd.get_dummies(marks['gender'],drop_first = True)\n",
    "ethnicity_dummy = pd.get_dummies(marks['ethnicity'],drop_first = True)\n",
    "parental_dummy = pd.get_dummies(marks['parental level of education'],drop_first = True)\n",
    "lunch_dummy = pd.get_dummies(marks['lunch'],drop_first = True)\n",
    "course_dummy = pd.get_dummies(marks['test preparation course'],drop_first = True)\n"
   ]
  },
  {
   "cell_type": "code",
   "execution_count": 31,
   "metadata": {},
   "outputs": [],
   "source": [
    "## concate along column wise \n",
    "marks = pd.concat([marks,gender_dummy,ethnicity_dummy,parental_dummy,lunch_dummy,course_dummy],axis = 1)"
   ]
  },
  {
   "cell_type": "code",
   "execution_count": 32,
   "metadata": {},
   "outputs": [
    {
     "data": {
      "text/html": [
       "<div>\n",
       "<style scoped>\n",
       "    .dataframe tbody tr th:only-of-type {\n",
       "        vertical-align: middle;\n",
       "    }\n",
       "\n",
       "    .dataframe tbody tr th {\n",
       "        vertical-align: top;\n",
       "    }\n",
       "\n",
       "    .dataframe thead th {\n",
       "        text-align: right;\n",
       "    }\n",
       "</style>\n",
       "<table border=\"1\" class=\"dataframe\">\n",
       "  <thead>\n",
       "    <tr style=\"text-align: right;\">\n",
       "      <th></th>\n",
       "      <th>gender</th>\n",
       "      <th>ethnicity</th>\n",
       "      <th>parental level of education</th>\n",
       "      <th>lunch</th>\n",
       "      <th>test preparation course</th>\n",
       "      <th>reading score</th>\n",
       "      <th>writing score</th>\n",
       "      <th>math score</th>\n",
       "      <th>male</th>\n",
       "      <th>group B</th>\n",
       "      <th>group C</th>\n",
       "      <th>group D</th>\n",
       "      <th>group E</th>\n",
       "      <th>bachelor's degree</th>\n",
       "      <th>high school</th>\n",
       "      <th>master's degree</th>\n",
       "      <th>some college</th>\n",
       "      <th>some high school</th>\n",
       "      <th>standard</th>\n",
       "      <th>none</th>\n",
       "    </tr>\n",
       "  </thead>\n",
       "  <tbody>\n",
       "    <tr>\n",
       "      <th>0</th>\n",
       "      <td>male</td>\n",
       "      <td>group C</td>\n",
       "      <td>some college</td>\n",
       "      <td>standard</td>\n",
       "      <td>none</td>\n",
       "      <td>0.493506</td>\n",
       "      <td>0.552941</td>\n",
       "      <td>61</td>\n",
       "      <td>1</td>\n",
       "      <td>0</td>\n",
       "      <td>1</td>\n",
       "      <td>0</td>\n",
       "      <td>0</td>\n",
       "      <td>0</td>\n",
       "      <td>0</td>\n",
       "      <td>0</td>\n",
       "      <td>1</td>\n",
       "      <td>0</td>\n",
       "      <td>1</td>\n",
       "      <td>1</td>\n",
       "    </tr>\n",
       "    <tr>\n",
       "      <th>1</th>\n",
       "      <td>female</td>\n",
       "      <td>group C</td>\n",
       "      <td>associate's degree</td>\n",
       "      <td>standard</td>\n",
       "      <td>none</td>\n",
       "      <td>0.506494</td>\n",
       "      <td>0.447059</td>\n",
       "      <td>53</td>\n",
       "      <td>0</td>\n",
       "      <td>0</td>\n",
       "      <td>1</td>\n",
       "      <td>0</td>\n",
       "      <td>0</td>\n",
       "      <td>0</td>\n",
       "      <td>0</td>\n",
       "      <td>0</td>\n",
       "      <td>0</td>\n",
       "      <td>0</td>\n",
       "      <td>1</td>\n",
       "      <td>1</td>\n",
       "    </tr>\n",
       "    <tr>\n",
       "      <th>2</th>\n",
       "      <td>female</td>\n",
       "      <td>group C</td>\n",
       "      <td>some college</td>\n",
       "      <td>free/reduced</td>\n",
       "      <td>completed</td>\n",
       "      <td>0.675325</td>\n",
       "      <td>0.647059</td>\n",
       "      <td>67</td>\n",
       "      <td>0</td>\n",
       "      <td>0</td>\n",
       "      <td>1</td>\n",
       "      <td>0</td>\n",
       "      <td>0</td>\n",
       "      <td>0</td>\n",
       "      <td>0</td>\n",
       "      <td>0</td>\n",
       "      <td>1</td>\n",
       "      <td>0</td>\n",
       "      <td>0</td>\n",
       "      <td>0</td>\n",
       "    </tr>\n",
       "  </tbody>\n",
       "</table>\n",
       "</div>"
      ],
      "text/plain": [
       "   gender ethnicity parental level of education         lunch  \\\n",
       "0    male   group C                some college      standard   \n",
       "1  female   group C          associate's degree      standard   \n",
       "2  female   group C                some college  free/reduced   \n",
       "\n",
       "  test preparation course  reading score  writing score  math score  male  \\\n",
       "0                    none       0.493506       0.552941          61     1   \n",
       "1                    none       0.506494       0.447059          53     0   \n",
       "2               completed       0.675325       0.647059          67     0   \n",
       "\n",
       "   group B  group C  group D  group E  bachelor's degree  high school  \\\n",
       "0        0        1        0        0                  0            0   \n",
       "1        0        1        0        0                  0            0   \n",
       "2        0        1        0        0                  0            0   \n",
       "\n",
       "   master's degree  some college  some high school  standard  none  \n",
       "0                0             1                 0         1     1  \n",
       "1                0             0                 0         1     1  \n",
       "2                0             1                 0         0     0  "
      ]
     },
     "execution_count": 32,
     "metadata": {},
     "output_type": "execute_result"
    }
   ],
   "source": [
    "marks.head(3)"
   ]
  },
  {
   "cell_type": "code",
   "execution_count": 33,
   "metadata": {},
   "outputs": [],
   "source": [
    "marks = marks.drop(['gender', 'ethnicity','parental level of education','lunch','test preparation course'], axis=1)"
   ]
  },
  {
   "cell_type": "code",
   "execution_count": 34,
   "metadata": {},
   "outputs": [
    {
     "data": {
      "text/html": [
       "<div>\n",
       "<style scoped>\n",
       "    .dataframe tbody tr th:only-of-type {\n",
       "        vertical-align: middle;\n",
       "    }\n",
       "\n",
       "    .dataframe tbody tr th {\n",
       "        vertical-align: top;\n",
       "    }\n",
       "\n",
       "    .dataframe thead th {\n",
       "        text-align: right;\n",
       "    }\n",
       "</style>\n",
       "<table border=\"1\" class=\"dataframe\">\n",
       "  <thead>\n",
       "    <tr style=\"text-align: right;\">\n",
       "      <th></th>\n",
       "      <th>reading score</th>\n",
       "      <th>writing score</th>\n",
       "      <th>math score</th>\n",
       "      <th>male</th>\n",
       "      <th>group B</th>\n",
       "      <th>group C</th>\n",
       "      <th>group D</th>\n",
       "      <th>group E</th>\n",
       "      <th>bachelor's degree</th>\n",
       "      <th>high school</th>\n",
       "      <th>master's degree</th>\n",
       "      <th>some college</th>\n",
       "      <th>some high school</th>\n",
       "      <th>standard</th>\n",
       "      <th>none</th>\n",
       "    </tr>\n",
       "  </thead>\n",
       "  <tbody>\n",
       "    <tr>\n",
       "      <th>0</th>\n",
       "      <td>0.493506</td>\n",
       "      <td>0.552941</td>\n",
       "      <td>61</td>\n",
       "      <td>1</td>\n",
       "      <td>0</td>\n",
       "      <td>1</td>\n",
       "      <td>0</td>\n",
       "      <td>0</td>\n",
       "      <td>0</td>\n",
       "      <td>0</td>\n",
       "      <td>0</td>\n",
       "      <td>1</td>\n",
       "      <td>0</td>\n",
       "      <td>1</td>\n",
       "      <td>1</td>\n",
       "    </tr>\n",
       "    <tr>\n",
       "      <th>1</th>\n",
       "      <td>0.506494</td>\n",
       "      <td>0.447059</td>\n",
       "      <td>53</td>\n",
       "      <td>0</td>\n",
       "      <td>0</td>\n",
       "      <td>1</td>\n",
       "      <td>0</td>\n",
       "      <td>0</td>\n",
       "      <td>0</td>\n",
       "      <td>0</td>\n",
       "      <td>0</td>\n",
       "      <td>0</td>\n",
       "      <td>0</td>\n",
       "      <td>1</td>\n",
       "      <td>1</td>\n",
       "    </tr>\n",
       "    <tr>\n",
       "      <th>2</th>\n",
       "      <td>0.675325</td>\n",
       "      <td>0.647059</td>\n",
       "      <td>67</td>\n",
       "      <td>0</td>\n",
       "      <td>0</td>\n",
       "      <td>1</td>\n",
       "      <td>0</td>\n",
       "      <td>0</td>\n",
       "      <td>0</td>\n",
       "      <td>0</td>\n",
       "      <td>0</td>\n",
       "      <td>1</td>\n",
       "      <td>0</td>\n",
       "      <td>0</td>\n",
       "      <td>0</td>\n",
       "    </tr>\n",
       "    <tr>\n",
       "      <th>3</th>\n",
       "      <td>0.688312</td>\n",
       "      <td>0.588235</td>\n",
       "      <td>79</td>\n",
       "      <td>1</td>\n",
       "      <td>0</td>\n",
       "      <td>1</td>\n",
       "      <td>0</td>\n",
       "      <td>0</td>\n",
       "      <td>0</td>\n",
       "      <td>0</td>\n",
       "      <td>0</td>\n",
       "      <td>0</td>\n",
       "      <td>1</td>\n",
       "      <td>0</td>\n",
       "      <td>1</td>\n",
       "    </tr>\n",
       "    <tr>\n",
       "      <th>4</th>\n",
       "      <td>0.454545</td>\n",
       "      <td>0.341176</td>\n",
       "      <td>53</td>\n",
       "      <td>1</td>\n",
       "      <td>0</td>\n",
       "      <td>0</td>\n",
       "      <td>0</td>\n",
       "      <td>0</td>\n",
       "      <td>0</td>\n",
       "      <td>1</td>\n",
       "      <td>0</td>\n",
       "      <td>0</td>\n",
       "      <td>0</td>\n",
       "      <td>0</td>\n",
       "      <td>1</td>\n",
       "    </tr>\n",
       "  </tbody>\n",
       "</table>\n",
       "</div>"
      ],
      "text/plain": [
       "   reading score  writing score  math score  male  group B  group C  group D  \\\n",
       "0       0.493506       0.552941          61     1        0        1        0   \n",
       "1       0.506494       0.447059          53     0        0        1        0   \n",
       "2       0.675325       0.647059          67     0        0        1        0   \n",
       "3       0.688312       0.588235          79     1        0        1        0   \n",
       "4       0.454545       0.341176          53     1        0        0        0   \n",
       "\n",
       "   group E  bachelor's degree  high school  master's degree  some college  \\\n",
       "0        0                  0            0                0             1   \n",
       "1        0                  0            0                0             0   \n",
       "2        0                  0            0                0             1   \n",
       "3        0                  0            0                0             0   \n",
       "4        0                  0            1                0             0   \n",
       "\n",
       "   some high school  standard  none  \n",
       "0                 0         1     1  \n",
       "1                 0         1     1  \n",
       "2                 0         0     0  \n",
       "3                 1         0     1  \n",
       "4                 0         0     1  "
      ]
     },
     "execution_count": 34,
     "metadata": {},
     "output_type": "execute_result"
    }
   ],
   "source": [
    "marks.head()"
   ]
  },
  {
   "cell_type": "code",
   "execution_count": 35,
   "metadata": {},
   "outputs": [],
   "source": [
    "## correlation plot\n",
    "marks_corr = marks.corr()"
   ]
  },
  {
   "cell_type": "code",
   "execution_count": 36,
   "metadata": {},
   "outputs": [
    {
     "data": {
      "text/html": [
       "<div>\n",
       "<style scoped>\n",
       "    .dataframe tbody tr th:only-of-type {\n",
       "        vertical-align: middle;\n",
       "    }\n",
       "\n",
       "    .dataframe tbody tr th {\n",
       "        vertical-align: top;\n",
       "    }\n",
       "\n",
       "    .dataframe thead th {\n",
       "        text-align: right;\n",
       "    }\n",
       "</style>\n",
       "<table border=\"1\" class=\"dataframe\">\n",
       "  <thead>\n",
       "    <tr style=\"text-align: right;\">\n",
       "      <th></th>\n",
       "      <th>reading score</th>\n",
       "      <th>writing score</th>\n",
       "      <th>math score</th>\n",
       "      <th>male</th>\n",
       "      <th>group B</th>\n",
       "      <th>group C</th>\n",
       "      <th>group D</th>\n",
       "      <th>group E</th>\n",
       "      <th>bachelor's degree</th>\n",
       "      <th>high school</th>\n",
       "      <th>master's degree</th>\n",
       "      <th>some college</th>\n",
       "      <th>some high school</th>\n",
       "      <th>standard</th>\n",
       "      <th>none</th>\n",
       "    </tr>\n",
       "  </thead>\n",
       "  <tbody>\n",
       "    <tr>\n",
       "      <th>reading score</th>\n",
       "      <td>1.000000</td>\n",
       "      <td>0.951875</td>\n",
       "      <td>0.821114</td>\n",
       "      <td>-0.238446</td>\n",
       "      <td>-0.091780</td>\n",
       "      <td>0.006216</td>\n",
       "      <td>0.046207</td>\n",
       "      <td>0.128774</td>\n",
       "      <td>0.062177</td>\n",
       "      <td>-0.145760</td>\n",
       "      <td>0.107524</td>\n",
       "      <td>2.600343e-03</td>\n",
       "      <td>-0.045692</td>\n",
       "      <td>0.237254</td>\n",
       "      <td>-2.516324e-01</td>\n",
       "    </tr>\n",
       "    <tr>\n",
       "      <th>writing score</th>\n",
       "      <td>0.951875</td>\n",
       "      <td>1.000000</td>\n",
       "      <td>0.803500</td>\n",
       "      <td>-0.303954</td>\n",
       "      <td>-0.110064</td>\n",
       "      <td>0.001848</td>\n",
       "      <td>0.105068</td>\n",
       "      <td>0.099394</td>\n",
       "      <td>0.104426</td>\n",
       "      <td>-0.181304</td>\n",
       "      <td>0.121476</td>\n",
       "      <td>2.277009e-02</td>\n",
       "      <td>-0.073174</td>\n",
       "      <td>0.253590</td>\n",
       "      <td>-3.284380e-01</td>\n",
       "    </tr>\n",
       "    <tr>\n",
       "      <th>math score</th>\n",
       "      <td>0.821114</td>\n",
       "      <td>0.803500</td>\n",
       "      <td>1.000000</td>\n",
       "      <td>0.167920</td>\n",
       "      <td>-0.109264</td>\n",
       "      <td>-0.063082</td>\n",
       "      <td>0.053779</td>\n",
       "      <td>0.223870</td>\n",
       "      <td>0.027293</td>\n",
       "      <td>-0.095397</td>\n",
       "      <td>0.051520</td>\n",
       "      <td>3.366622e-02</td>\n",
       "      <td>-0.060238</td>\n",
       "      <td>0.351877</td>\n",
       "      <td>-1.833473e-01</td>\n",
       "    </tr>\n",
       "    <tr>\n",
       "      <th>male</th>\n",
       "      <td>-0.238446</td>\n",
       "      <td>-0.303954</td>\n",
       "      <td>0.167920</td>\n",
       "      <td>1.000000</td>\n",
       "      <td>-0.021937</td>\n",
       "      <td>-0.075153</td>\n",
       "      <td>0.003045</td>\n",
       "      <td>0.036108</td>\n",
       "      <td>-0.049477</td>\n",
       "      <td>0.067286</td>\n",
       "      <td>-0.053082</td>\n",
       "      <td>-8.257607e-03</td>\n",
       "      <td>0.004669</td>\n",
       "      <td>0.000154</td>\n",
       "      <td>4.459343e-04</td>\n",
       "    </tr>\n",
       "    <tr>\n",
       "      <th>group B</th>\n",
       "      <td>-0.091780</td>\n",
       "      <td>-0.110064</td>\n",
       "      <td>-0.109264</td>\n",
       "      <td>-0.021937</td>\n",
       "      <td>1.000000</td>\n",
       "      <td>-0.338886</td>\n",
       "      <td>-0.299908</td>\n",
       "      <td>-0.202637</td>\n",
       "      <td>-0.014651</td>\n",
       "      <td>0.072507</td>\n",
       "      <td>-0.039480</td>\n",
       "      <td>-4.318602e-02</td>\n",
       "      <td>0.018518</td>\n",
       "      <td>-0.018268</td>\n",
       "      <td>-1.383924e-02</td>\n",
       "    </tr>\n",
       "    <tr>\n",
       "      <th>group C</th>\n",
       "      <td>0.006216</td>\n",
       "      <td>0.001848</td>\n",
       "      <td>-0.063082</td>\n",
       "      <td>-0.075153</td>\n",
       "      <td>-0.338886</td>\n",
       "      <td>1.000000</td>\n",
       "      <td>-0.402934</td>\n",
       "      <td>-0.272248</td>\n",
       "      <td>0.006343</td>\n",
       "      <td>-0.007227</td>\n",
       "      <td>0.007021</td>\n",
       "      <td>-2.668308e-02</td>\n",
       "      <td>-0.026690</td>\n",
       "      <td>0.012668</td>\n",
       "      <td>-1.075180e-02</td>\n",
       "    </tr>\n",
       "    <tr>\n",
       "      <th>group D</th>\n",
       "      <td>0.046207</td>\n",
       "      <td>0.105068</td>\n",
       "      <td>0.053779</td>\n",
       "      <td>0.003045</td>\n",
       "      <td>-0.299908</td>\n",
       "      <td>-0.402934</td>\n",
       "      <td>1.000000</td>\n",
       "      <td>-0.240934</td>\n",
       "      <td>-0.023248</td>\n",
       "      <td>-0.034835</td>\n",
       "      <td>0.077002</td>\n",
       "      <td>4.496938e-02</td>\n",
       "      <td>-0.007605</td>\n",
       "      <td>-0.002292</td>\n",
       "      <td>5.541903e-02</td>\n",
       "    </tr>\n",
       "    <tr>\n",
       "      <th>group E</th>\n",
       "      <td>0.128774</td>\n",
       "      <td>0.099394</td>\n",
       "      <td>0.223870</td>\n",
       "      <td>0.036108</td>\n",
       "      <td>-0.202637</td>\n",
       "      <td>-0.272248</td>\n",
       "      <td>-0.240934</td>\n",
       "      <td>1.000000</td>\n",
       "      <td>0.021365</td>\n",
       "      <td>-0.018418</td>\n",
       "      <td>-0.017489</td>\n",
       "      <td>4.278589e-02</td>\n",
       "      <td>-0.053731</td>\n",
       "      <td>0.029665</td>\n",
       "      <td>-6.773693e-02</td>\n",
       "    </tr>\n",
       "    <tr>\n",
       "      <th>bachelor's degree</th>\n",
       "      <td>0.062177</td>\n",
       "      <td>0.104426</td>\n",
       "      <td>0.027293</td>\n",
       "      <td>-0.049477</td>\n",
       "      <td>-0.014651</td>\n",
       "      <td>0.006343</td>\n",
       "      <td>-0.023248</td>\n",
       "      <td>0.021365</td>\n",
       "      <td>1.000000</td>\n",
       "      <td>-0.176012</td>\n",
       "      <td>-0.092544</td>\n",
       "      <td>-2.088510e-01</td>\n",
       "      <td>-0.171939</td>\n",
       "      <td>-0.051770</td>\n",
       "      <td>-1.654830e-02</td>\n",
       "    </tr>\n",
       "    <tr>\n",
       "      <th>high school</th>\n",
       "      <td>-0.145760</td>\n",
       "      <td>-0.181304</td>\n",
       "      <td>-0.095397</td>\n",
       "      <td>0.067286</td>\n",
       "      <td>0.072507</td>\n",
       "      <td>-0.007227</td>\n",
       "      <td>-0.034835</td>\n",
       "      <td>-0.018418</td>\n",
       "      <td>-0.176012</td>\n",
       "      <td>1.000000</td>\n",
       "      <td>-0.124479</td>\n",
       "      <td>-2.809206e-01</td>\n",
       "      <td>-0.231271</td>\n",
       "      <td>0.015907</td>\n",
       "      <td>8.922037e-02</td>\n",
       "    </tr>\n",
       "    <tr>\n",
       "      <th>master's degree</th>\n",
       "      <td>0.107524</td>\n",
       "      <td>0.121476</td>\n",
       "      <td>0.051520</td>\n",
       "      <td>-0.053082</td>\n",
       "      <td>-0.039480</td>\n",
       "      <td>0.007021</td>\n",
       "      <td>0.077002</td>\n",
       "      <td>-0.017489</td>\n",
       "      <td>-0.092544</td>\n",
       "      <td>-0.124479</td>\n",
       "      <td>1.000000</td>\n",
       "      <td>-1.477035e-01</td>\n",
       "      <td>-0.121599</td>\n",
       "      <td>-0.023535</td>\n",
       "      <td>-1.262813e-02</td>\n",
       "    </tr>\n",
       "    <tr>\n",
       "      <th>some college</th>\n",
       "      <td>0.002600</td>\n",
       "      <td>0.022770</td>\n",
       "      <td>0.033666</td>\n",
       "      <td>-0.008258</td>\n",
       "      <td>-0.043186</td>\n",
       "      <td>-0.026683</td>\n",
       "      <td>0.044969</td>\n",
       "      <td>0.042786</td>\n",
       "      <td>-0.208851</td>\n",
       "      <td>-0.280921</td>\n",
       "      <td>-0.147704</td>\n",
       "      <td>1.000000e+00</td>\n",
       "      <td>-0.274420</td>\n",
       "      <td>0.010366</td>\n",
       "      <td>-1.325932e-16</td>\n",
       "    </tr>\n",
       "    <tr>\n",
       "      <th>some high school</th>\n",
       "      <td>-0.045692</td>\n",
       "      <td>-0.073174</td>\n",
       "      <td>-0.060238</td>\n",
       "      <td>0.004669</td>\n",
       "      <td>0.018518</td>\n",
       "      <td>-0.026690</td>\n",
       "      <td>-0.007605</td>\n",
       "      <td>-0.053731</td>\n",
       "      <td>-0.171939</td>\n",
       "      <td>-0.231271</td>\n",
       "      <td>-0.121599</td>\n",
       "      <td>-2.744203e-01</td>\n",
       "      <td>1.000000</td>\n",
       "      <td>0.010298</td>\n",
       "      <td>-5.439109e-02</td>\n",
       "    </tr>\n",
       "    <tr>\n",
       "      <th>standard</th>\n",
       "      <td>0.237254</td>\n",
       "      <td>0.253590</td>\n",
       "      <td>0.351877</td>\n",
       "      <td>0.000154</td>\n",
       "      <td>-0.018268</td>\n",
       "      <td>0.012668</td>\n",
       "      <td>-0.002292</td>\n",
       "      <td>0.029665</td>\n",
       "      <td>-0.051770</td>\n",
       "      <td>0.015907</td>\n",
       "      <td>-0.023535</td>\n",
       "      <td>1.036562e-02</td>\n",
       "      <td>0.010298</td>\n",
       "      <td>1.000000</td>\n",
       "      <td>2.669686e-02</td>\n",
       "    </tr>\n",
       "    <tr>\n",
       "      <th>none</th>\n",
       "      <td>-0.251632</td>\n",
       "      <td>-0.328438</td>\n",
       "      <td>-0.183347</td>\n",
       "      <td>0.000446</td>\n",
       "      <td>-0.013839</td>\n",
       "      <td>-0.010752</td>\n",
       "      <td>0.055419</td>\n",
       "      <td>-0.067737</td>\n",
       "      <td>-0.016548</td>\n",
       "      <td>0.089220</td>\n",
       "      <td>-0.012628</td>\n",
       "      <td>-1.325932e-16</td>\n",
       "      <td>-0.054391</td>\n",
       "      <td>0.026697</td>\n",
       "      <td>1.000000e+00</td>\n",
       "    </tr>\n",
       "  </tbody>\n",
       "</table>\n",
       "</div>"
      ],
      "text/plain": [
       "                   reading score  writing score  math score      male  \\\n",
       "reading score           1.000000       0.951875    0.821114 -0.238446   \n",
       "writing score           0.951875       1.000000    0.803500 -0.303954   \n",
       "math score              0.821114       0.803500    1.000000  0.167920   \n",
       "male                   -0.238446      -0.303954    0.167920  1.000000   \n",
       "group B                -0.091780      -0.110064   -0.109264 -0.021937   \n",
       "group C                 0.006216       0.001848   -0.063082 -0.075153   \n",
       "group D                 0.046207       0.105068    0.053779  0.003045   \n",
       "group E                 0.128774       0.099394    0.223870  0.036108   \n",
       "bachelor's degree       0.062177       0.104426    0.027293 -0.049477   \n",
       "high school            -0.145760      -0.181304   -0.095397  0.067286   \n",
       "master's degree         0.107524       0.121476    0.051520 -0.053082   \n",
       "some college            0.002600       0.022770    0.033666 -0.008258   \n",
       "some high school       -0.045692      -0.073174   -0.060238  0.004669   \n",
       "standard                0.237254       0.253590    0.351877  0.000154   \n",
       "none                   -0.251632      -0.328438   -0.183347  0.000446   \n",
       "\n",
       "                    group B   group C   group D   group E  bachelor's degree  \\\n",
       "reading score     -0.091780  0.006216  0.046207  0.128774           0.062177   \n",
       "writing score     -0.110064  0.001848  0.105068  0.099394           0.104426   \n",
       "math score        -0.109264 -0.063082  0.053779  0.223870           0.027293   \n",
       "male              -0.021937 -0.075153  0.003045  0.036108          -0.049477   \n",
       "group B            1.000000 -0.338886 -0.299908 -0.202637          -0.014651   \n",
       "group C           -0.338886  1.000000 -0.402934 -0.272248           0.006343   \n",
       "group D           -0.299908 -0.402934  1.000000 -0.240934          -0.023248   \n",
       "group E           -0.202637 -0.272248 -0.240934  1.000000           0.021365   \n",
       "bachelor's degree -0.014651  0.006343 -0.023248  0.021365           1.000000   \n",
       "high school        0.072507 -0.007227 -0.034835 -0.018418          -0.176012   \n",
       "master's degree   -0.039480  0.007021  0.077002 -0.017489          -0.092544   \n",
       "some college      -0.043186 -0.026683  0.044969  0.042786          -0.208851   \n",
       "some high school   0.018518 -0.026690 -0.007605 -0.053731          -0.171939   \n",
       "standard          -0.018268  0.012668 -0.002292  0.029665          -0.051770   \n",
       "none              -0.013839 -0.010752  0.055419 -0.067737          -0.016548   \n",
       "\n",
       "                   high school  master's degree  some college  \\\n",
       "reading score        -0.145760         0.107524  2.600343e-03   \n",
       "writing score        -0.181304         0.121476  2.277009e-02   \n",
       "math score           -0.095397         0.051520  3.366622e-02   \n",
       "male                  0.067286        -0.053082 -8.257607e-03   \n",
       "group B               0.072507        -0.039480 -4.318602e-02   \n",
       "group C              -0.007227         0.007021 -2.668308e-02   \n",
       "group D              -0.034835         0.077002  4.496938e-02   \n",
       "group E              -0.018418        -0.017489  4.278589e-02   \n",
       "bachelor's degree    -0.176012        -0.092544 -2.088510e-01   \n",
       "high school           1.000000        -0.124479 -2.809206e-01   \n",
       "master's degree      -0.124479         1.000000 -1.477035e-01   \n",
       "some college         -0.280921        -0.147704  1.000000e+00   \n",
       "some high school     -0.231271        -0.121599 -2.744203e-01   \n",
       "standard              0.015907        -0.023535  1.036562e-02   \n",
       "none                  0.089220        -0.012628 -1.325932e-16   \n",
       "\n",
       "                   some high school  standard          none  \n",
       "reading score             -0.045692  0.237254 -2.516324e-01  \n",
       "writing score             -0.073174  0.253590 -3.284380e-01  \n",
       "math score                -0.060238  0.351877 -1.833473e-01  \n",
       "male                       0.004669  0.000154  4.459343e-04  \n",
       "group B                    0.018518 -0.018268 -1.383924e-02  \n",
       "group C                   -0.026690  0.012668 -1.075180e-02  \n",
       "group D                   -0.007605 -0.002292  5.541903e-02  \n",
       "group E                   -0.053731  0.029665 -6.773693e-02  \n",
       "bachelor's degree         -0.171939 -0.051770 -1.654830e-02  \n",
       "high school               -0.231271  0.015907  8.922037e-02  \n",
       "master's degree           -0.121599 -0.023535 -1.262813e-02  \n",
       "some college              -0.274420  0.010366 -1.325932e-16  \n",
       "some high school           1.000000  0.010298 -5.439109e-02  \n",
       "standard                   0.010298  1.000000  2.669686e-02  \n",
       "none                      -0.054391  0.026697  1.000000e+00  "
      ]
     },
     "execution_count": 36,
     "metadata": {},
     "output_type": "execute_result"
    }
   ],
   "source": [
    "marks_corr"
   ]
  },
  {
   "cell_type": "code",
   "execution_count": 37,
   "metadata": {},
   "outputs": [
    {
     "data": {
      "text/plain": [
       "reading score        float64\n",
       "writing score        float64\n",
       "math score             int64\n",
       "male                   uint8\n",
       "group B                uint8\n",
       "group C                uint8\n",
       "group D                uint8\n",
       "group E                uint8\n",
       "bachelor's degree      uint8\n",
       "high school            uint8\n",
       "master's degree        uint8\n",
       "some college           uint8\n",
       "some high school       uint8\n",
       "standard               uint8\n",
       "none                   uint8\n",
       "dtype: object"
      ]
     },
     "execution_count": 37,
     "metadata": {},
     "output_type": "execute_result"
    }
   ],
   "source": [
    "marks.dtypes"
   ]
  },
  {
   "cell_type": "code",
   "execution_count": 38,
   "metadata": {},
   "outputs": [
    {
     "data": {
      "text/plain": [
       "<matplotlib.axes._subplots.AxesSubplot at 0x23d05418160>"
      ]
     },
     "execution_count": 38,
     "metadata": {},
     "output_type": "execute_result"
    },
    {
     "data": {
      "image/png": "[encoded data removed]",
      "text/plain": [
       "<Figure size 842.4x595.44 with 2 Axes>"
      ]
     },
     "metadata": {
      "needs_background": "light"
     },
     "output_type": "display_data"
    }
   ],
   "source": [
    "# Correlation of variables described using heatmap\n",
    "# change the dimension of plot\n",
    "a4_dims = (11.7, 8.27)\n",
    "fig, ax = plt.subplots(figsize=a4_dims)\n",
    "sns.heatmap(marks_corr,ax=ax)"
   ]
  },
  {
   "cell_type": "code",
   "execution_count": 39,
   "metadata": {},
   "outputs": [],
   "source": [
    "## split data set for linear1 regression\n",
    "train,test=train_test_split(marks,test_size=0.25,random_state=5)\n",
    "x_train=train.drop('math score',axis=1)\n",
    "y_train=train['math score']\n",
    "x_test=test.drop('math score',axis=1)\n",
    "y_test=test['math score']"
   ]
  },
  {
   "cell_type": "code",
   "execution_count": 40,
   "metadata": {},
   "outputs": [],
   "source": [
    "# creating first model with all variables: Ordinary Least Square(OLS) Technique used\n",
    "from sklearn.linear_model import LinearRegression\n",
    "regressor = LinearRegression()\n",
    "model = regressor.fit(x_train, y_train)"
   ]
  },
  {
   "cell_type": "code",
   "execution_count": 41,
   "metadata": {},
   "outputs": [
    {
     "name": "stdout",
     "output_type": "stream",
     "text": [
      "coefficient of determination: 0.8909789876853764\n",
      "intercept: 2.967876996492194\n",
      "slope: [17.81981503 62.54938889 13.76861164  1.8170669   1.29227404  1.18615409\n",
      "  6.02872549 -1.54965365  0.90068372 -1.87540896  0.26705824  0.14469549\n",
      "  3.6335476   3.39323099]\n"
     ]
    }
   ],
   "source": [
    "r_sq = model.score(x_train, y_train)\n",
    "print('coefficient of determination:', r_sq)\n",
    "print('intercept:', model.intercept_)\n",
    "print('slope:', model.coef_)\n"
   ]
  },
  {
   "cell_type": "code",
   "execution_count": 42,
   "metadata": {},
   "outputs": [
    {
     "data": {
      "text/plain": [
       "Index(['reading score', 'writing score', 'math score', 'male', 'group B',\n",
       "       'group C', 'group D', 'group E', 'bachelor's degree', 'high school',\n",
       "       'master's degree', 'some college', 'some high school', 'standard',\n",
       "       'none'],\n",
       "      dtype='object')"
      ]
     },
     "execution_count": 42,
     "metadata": {},
     "output_type": "execute_result"
    }
   ],
   "source": [
    "train.columns"
   ]
  },
  {
   "cell_type": "markdown",
   "metadata": {},
   "source": [
    "#### Recursive Feature Elimination (RFE) is based on the idea to repeatedly construct a model and choose either the best or worst performing feature, setting the feature aside and then repeating the process with the rest of the features. This process is applied until all features in the dataset are exhausted. The goal of RFE is to select features by recursively considering smaller and smaller sets of features"
   ]
  },
  {
   "cell_type": "code",
   "execution_count": 103,
   "metadata": {},
   "outputs": [
    {
     "name": "stderr",
     "output_type": "stream",
     "text": [
      "C:\\ProgramData\\Anaconda3\\lib\\site-packages\\sklearn\\utils\\validation.py:68: FutureWarning: Pass n_features_to_select=7 as keyword args. From version 0.25 passing these as positional arguments will result in an error\n",
      "  warnings.warn(\"Pass {} as keyword args. From version 0.25 \"\n"
     ]
    },
    {
     "ename": "IndexError",
     "evalue": "list index out of range",
     "output_type": "error",
     "traceback": [
      "\u001b[1;31m---------------------------------------------------------------------------\u001b[0m",
      "\u001b[1;31mIndexError\u001b[0m                                Traceback (most recent call last)",
      "\u001b[1;32m<ipython-input-103-3cec3b5285e5>\u001b[0m in \u001b[0;36m<module>\u001b[1;34m\u001b[0m\n\u001b[0;32m     10\u001b[0m \u001b[1;32mfor\u001b[0m \u001b[0mi\u001b[0m \u001b[1;32min\u001b[0m \u001b[0mrange\u001b[0m\u001b[1;33m(\u001b[0m\u001b[0mlen\u001b[0m\u001b[1;33m(\u001b[0m\u001b[0mrfe\u001b[0m\u001b[1;33m.\u001b[0m\u001b[0msupport_\u001b[0m\u001b[1;33m)\u001b[0m\u001b[1;33m)\u001b[0m\u001b[1;33m:\u001b[0m\u001b[1;33m\u001b[0m\u001b[1;33m\u001b[0m\u001b[0m\n\u001b[0;32m     11\u001b[0m     \u001b[1;32mif\u001b[0m \u001b[0mrank\u001b[0m\u001b[1;33m[\u001b[0m\u001b[0mi\u001b[0m\u001b[1;33m]\u001b[0m\u001b[1;33m==\u001b[0m\u001b[1;36m1\u001b[0m\u001b[1;33m:\u001b[0m\u001b[1;33m\u001b[0m\u001b[1;33m\u001b[0m\u001b[0m\n\u001b[1;32m---> 12\u001b[1;33m         \u001b[0mfeature\u001b[0m\u001b[1;33m.\u001b[0m\u001b[0mappend\u001b[0m\u001b[1;33m(\u001b[0m\u001b[0mL\u001b[0m\u001b[1;33m[\u001b[0m\u001b[0mi\u001b[0m\u001b[1;33m]\u001b[0m\u001b[1;33m)\u001b[0m\u001b[1;33m\u001b[0m\u001b[1;33m\u001b[0m\u001b[0m\n\u001b[0m\u001b[0;32m     13\u001b[0m \u001b[0mprint\u001b[0m\u001b[1;33m(\u001b[0m\u001b[0mfeature\u001b[0m\u001b[1;33m)\u001b[0m\u001b[1;33m\u001b[0m\u001b[1;33m\u001b[0m\u001b[0m\n",
      "\u001b[1;31mIndexError\u001b[0m: list index out of range"
     ]
    }
   ],
   "source": [
    "from sklearn.feature_selection import RFE\n",
    "regressor = LinearRegression()\n",
    "rfe = RFE(regressor, 7) # selecting best 7 features\n",
    "rfe = rfe.fit(x_train, y_train)\n",
    "#print(rfe.support_)\n",
    "#print(rfe.ranking_)\n",
    "L=list(train.columns)\n",
    "rank=list(rfe.ranking_)\n",
    "feature=[]\n",
    "for i in range(len(rfe.support_)):\n",
    "    if rank[i]==1:\n",
    "        feature.append(L[i])\n",
    "print(feature)\n"
   ]
  },
  {
   "cell_type": "code",
   "execution_count": 123,
   "metadata": {},
   "outputs": [],
   "source": [
    "x_train_new = train[['reading score', 'writing score',  'group D', 'high school', 'some high school', 'standard']]"
   ]
  },
  {
   "cell_type": "code",
   "execution_count": 124,
   "metadata": {},
   "outputs": [
    {
     "data": {
      "text/html": [
       "<div>\n",
       "<style scoped>\n",
       "    .dataframe tbody tr th:only-of-type {\n",
       "        vertical-align: middle;\n",
       "    }\n",
       "\n",
       "    .dataframe tbody tr th {\n",
       "        vertical-align: top;\n",
       "    }\n",
       "\n",
       "    .dataframe thead th {\n",
       "        text-align: right;\n",
       "    }\n",
       "</style>\n",
       "<table border=\"1\" class=\"dataframe\">\n",
       "  <thead>\n",
       "    <tr style=\"text-align: right;\">\n",
       "      <th></th>\n",
       "      <th>reading score</th>\n",
       "      <th>writing score</th>\n",
       "      <th>group D</th>\n",
       "      <th>high school</th>\n",
       "      <th>some high school</th>\n",
       "      <th>standard</th>\n",
       "    </tr>\n",
       "  </thead>\n",
       "  <tbody>\n",
       "    <tr>\n",
       "      <th>517</th>\n",
       "      <td>0.753247</td>\n",
       "      <td>0.682353</td>\n",
       "      <td>0</td>\n",
       "      <td>1</td>\n",
       "      <td>0</td>\n",
       "      <td>1</td>\n",
       "    </tr>\n",
       "    <tr>\n",
       "      <th>196</th>\n",
       "      <td>0.714286</td>\n",
       "      <td>0.611765</td>\n",
       "      <td>0</td>\n",
       "      <td>0</td>\n",
       "      <td>0</td>\n",
       "      <td>0</td>\n",
       "    </tr>\n",
       "    <tr>\n",
       "      <th>551</th>\n",
       "      <td>0.558442</td>\n",
       "      <td>0.564706</td>\n",
       "      <td>0</td>\n",
       "      <td>0</td>\n",
       "      <td>1</td>\n",
       "      <td>1</td>\n",
       "    </tr>\n",
       "    <tr>\n",
       "      <th>250</th>\n",
       "      <td>0.402597</td>\n",
       "      <td>0.352941</td>\n",
       "      <td>0</td>\n",
       "      <td>0</td>\n",
       "      <td>0</td>\n",
       "      <td>0</td>\n",
       "    </tr>\n",
       "    <tr>\n",
       "      <th>68</th>\n",
       "      <td>0.818182</td>\n",
       "      <td>0.858824</td>\n",
       "      <td>0</td>\n",
       "      <td>0</td>\n",
       "      <td>0</td>\n",
       "      <td>0</td>\n",
       "    </tr>\n",
       "  </tbody>\n",
       "</table>\n",
       "</div>"
      ],
      "text/plain": [
       "     reading score  writing score  group D  high school  some high school  \\\n",
       "517       0.753247       0.682353        0            1                 0   \n",
       "196       0.714286       0.611765        0            0                 0   \n",
       "551       0.558442       0.564706        0            0                 1   \n",
       "250       0.402597       0.352941        0            0                 0   \n",
       "68        0.818182       0.858824        0            0                 0   \n",
       "\n",
       "     standard  \n",
       "517         1  \n",
       "196         0  \n",
       "551         1  \n",
       "250         0  \n",
       "68          0  "
      ]
     },
     "execution_count": 124,
     "metadata": {},
     "output_type": "execute_result"
    }
   ],
   "source": [
    "x_train_new.head()"
   ]
  },
  {
   "cell_type": "code",
   "execution_count": 125,
   "metadata": {},
   "outputs": [
    {
     "data": {
      "text/plain": [
       "(525, 6)"
      ]
     },
     "execution_count": 125,
     "metadata": {},
     "output_type": "execute_result"
    }
   ],
   "source": [
    "x_train_New.shape"
   ]
  },
  {
   "cell_type": "code",
   "execution_count": 126,
   "metadata": {},
   "outputs": [],
   "source": [
    "\n",
    "from sklearn.linear_model import LinearRegression\n",
    "regressor = LinearRegression()\n",
    "model = regressor.fit(x_train_new, y_train)"
   ]
  },
  {
   "cell_type": "code",
   "execution_count": 127,
   "metadata": {},
   "outputs": [
    {
     "name": "stdout",
     "output_type": "stream",
     "text": [
      "coefficient of determination: 0.6998668226558238\n",
      "intercept: 23.009657481362524\n",
      "slope: [49.10284347 15.75598665  0.38270563  1.50948662 -1.22273426  4.971392  ]\n"
     ]
    }
   ],
   "source": [
    "r_sq = model.score(x_train_new, y_train)\n",
    "print('coefficient of determination:', r_sq)\n",
    "print('intercept:', model.intercept_)\n",
    "print('slope:', model.coef_)"
   ]
  },
  {
   "cell_type": "code",
   "execution_count": null,
   "metadata": {},
   "outputs": [],
   "source": []
  },
  {
   "cell_type": "markdown",
   "metadata": {},
   "source": [
    "## take test dataset"
   ]
  },
  {
   "cell_type": "code",
   "execution_count": 128,
   "metadata": {},
   "outputs": [],
   "source": [
    "mark_test = pd.read_csv(r\"C:\\Users\\Administrator\\Desktop\\Competition\\dockship_Exam Marks\\exam_mark_prediction_ai_challenge-dataset\\test.csv\")"
   ]
  },
  {
   "cell_type": "code",
   "execution_count": 129,
   "metadata": {},
   "outputs": [
    {
     "data": {
      "text/html": [
       "<div>\n",
       "<style scoped>\n",
       "    .dataframe tbody tr th:only-of-type {\n",
       "        vertical-align: middle;\n",
       "    }\n",
       "\n",
       "    .dataframe tbody tr th {\n",
       "        vertical-align: top;\n",
       "    }\n",
       "\n",
       "    .dataframe thead th {\n",
       "        text-align: right;\n",
       "    }\n",
       "</style>\n",
       "<table border=\"1\" class=\"dataframe\">\n",
       "  <thead>\n",
       "    <tr style=\"text-align: right;\">\n",
       "      <th></th>\n",
       "      <th>Unnamed: 0</th>\n",
       "      <th>gender</th>\n",
       "      <th>ethnicity</th>\n",
       "      <th>parental level of education</th>\n",
       "      <th>lunch</th>\n",
       "      <th>test preparation course</th>\n",
       "      <th>reading score</th>\n",
       "      <th>writing score</th>\n",
       "    </tr>\n",
       "  </thead>\n",
       "  <tbody>\n",
       "    <tr>\n",
       "      <th>0</th>\n",
       "      <td>0</td>\n",
       "      <td>female</td>\n",
       "      <td>group C</td>\n",
       "      <td>some college</td>\n",
       "      <td>standard</td>\n",
       "      <td>none</td>\n",
       "      <td>67</td>\n",
       "      <td>72</td>\n",
       "    </tr>\n",
       "    <tr>\n",
       "      <th>1</th>\n",
       "      <td>1</td>\n",
       "      <td>male</td>\n",
       "      <td>group E</td>\n",
       "      <td>some college</td>\n",
       "      <td>standard</td>\n",
       "      <td>none</td>\n",
       "      <td>60</td>\n",
       "      <td>59</td>\n",
       "    </tr>\n",
       "    <tr>\n",
       "      <th>2</th>\n",
       "      <td>2</td>\n",
       "      <td>female</td>\n",
       "      <td>group C</td>\n",
       "      <td>bachelor's degree</td>\n",
       "      <td>standard</td>\n",
       "      <td>none</td>\n",
       "      <td>93</td>\n",
       "      <td>95</td>\n",
       "    </tr>\n",
       "    <tr>\n",
       "      <th>3</th>\n",
       "      <td>3</td>\n",
       "      <td>male</td>\n",
       "      <td>group D</td>\n",
       "      <td>associate's degree</td>\n",
       "      <td>standard</td>\n",
       "      <td>none</td>\n",
       "      <td>48</td>\n",
       "      <td>46</td>\n",
       "    </tr>\n",
       "    <tr>\n",
       "      <th>4</th>\n",
       "      <td>4</td>\n",
       "      <td>female</td>\n",
       "      <td>group B</td>\n",
       "      <td>associate's degree</td>\n",
       "      <td>standard</td>\n",
       "      <td>none</td>\n",
       "      <td>76</td>\n",
       "      <td>80</td>\n",
       "    </tr>\n",
       "  </tbody>\n",
       "</table>\n",
       "</div>"
      ],
      "text/plain": [
       "   Unnamed: 0  gender ethnicity parental level of education     lunch  \\\n",
       "0           0  female   group C                some college  standard   \n",
       "1           1    male   group E                some college  standard   \n",
       "2           2  female   group C           bachelor's degree  standard   \n",
       "3           3    male   group D          associate's degree  standard   \n",
       "4           4  female   group B          associate's degree  standard   \n",
       "\n",
       "  test preparation course  reading score  writing score  \n",
       "0                    none             67             72  \n",
       "1                    none             60             59  \n",
       "2                    none             93             95  \n",
       "3                    none             48             46  \n",
       "4                    none             76             80  "
      ]
     },
     "execution_count": 129,
     "metadata": {},
     "output_type": "execute_result"
    }
   ],
   "source": [
    "mark_test.head()"
   ]
  },
  {
   "cell_type": "code",
   "execution_count": 130,
   "metadata": {},
   "outputs": [],
   "source": [
    "mark_test = mark_test.drop(['Unnamed: 0'],axis = 1)"
   ]
  },
  {
   "cell_type": "code",
   "execution_count": 131,
   "metadata": {},
   "outputs": [],
   "source": [
    "cols_to_norm = ['reading score','writing score']\n",
    "mark_test[cols_to_norm] = scaler.fit_transform(mark_test[cols_to_norm])"
   ]
  },
  {
   "cell_type": "code",
   "execution_count": 132,
   "metadata": {},
   "outputs": [
    {
     "data": {
      "text/html": [
       "<div>\n",
       "<style scoped>\n",
       "    .dataframe tbody tr th:only-of-type {\n",
       "        vertical-align: middle;\n",
       "    }\n",
       "\n",
       "    .dataframe tbody tr th {\n",
       "        vertical-align: top;\n",
       "    }\n",
       "\n",
       "    .dataframe thead th {\n",
       "        text-align: right;\n",
       "    }\n",
       "</style>\n",
       "<table border=\"1\" class=\"dataframe\">\n",
       "  <thead>\n",
       "    <tr style=\"text-align: right;\">\n",
       "      <th></th>\n",
       "      <th>gender</th>\n",
       "      <th>ethnicity</th>\n",
       "      <th>parental level of education</th>\n",
       "      <th>lunch</th>\n",
       "      <th>test preparation course</th>\n",
       "      <th>reading score</th>\n",
       "      <th>writing score</th>\n",
       "    </tr>\n",
       "  </thead>\n",
       "  <tbody>\n",
       "    <tr>\n",
       "      <th>0</th>\n",
       "      <td>female</td>\n",
       "      <td>group C</td>\n",
       "      <td>some college</td>\n",
       "      <td>standard</td>\n",
       "      <td>none</td>\n",
       "      <td>0.602410</td>\n",
       "      <td>0.688889</td>\n",
       "    </tr>\n",
       "    <tr>\n",
       "      <th>1</th>\n",
       "      <td>male</td>\n",
       "      <td>group E</td>\n",
       "      <td>some college</td>\n",
       "      <td>standard</td>\n",
       "      <td>none</td>\n",
       "      <td>0.518072</td>\n",
       "      <td>0.544444</td>\n",
       "    </tr>\n",
       "    <tr>\n",
       "      <th>2</th>\n",
       "      <td>female</td>\n",
       "      <td>group C</td>\n",
       "      <td>bachelor's degree</td>\n",
       "      <td>standard</td>\n",
       "      <td>none</td>\n",
       "      <td>0.915663</td>\n",
       "      <td>0.944444</td>\n",
       "    </tr>\n",
       "    <tr>\n",
       "      <th>3</th>\n",
       "      <td>male</td>\n",
       "      <td>group D</td>\n",
       "      <td>associate's degree</td>\n",
       "      <td>standard</td>\n",
       "      <td>none</td>\n",
       "      <td>0.373494</td>\n",
       "      <td>0.400000</td>\n",
       "    </tr>\n",
       "    <tr>\n",
       "      <th>4</th>\n",
       "      <td>female</td>\n",
       "      <td>group B</td>\n",
       "      <td>associate's degree</td>\n",
       "      <td>standard</td>\n",
       "      <td>none</td>\n",
       "      <td>0.710843</td>\n",
       "      <td>0.777778</td>\n",
       "    </tr>\n",
       "  </tbody>\n",
       "</table>\n",
       "</div>"
      ],
      "text/plain": [
       "   gender ethnicity parental level of education     lunch  \\\n",
       "0  female   group C                some college  standard   \n",
       "1    male   group E                some college  standard   \n",
       "2  female   group C           bachelor's degree  standard   \n",
       "3    male   group D          associate's degree  standard   \n",
       "4  female   group B          associate's degree  standard   \n",
       "\n",
       "  test preparation course  reading score  writing score  \n",
       "0                    none       0.602410       0.688889  \n",
       "1                    none       0.518072       0.544444  \n",
       "2                    none       0.915663       0.944444  \n",
       "3                    none       0.373494       0.400000  \n",
       "4                    none       0.710843       0.777778  "
      ]
     },
     "execution_count": 132,
     "metadata": {},
     "output_type": "execute_result"
    }
   ],
   "source": [
    "mark_test.head()"
   ]
  },
  {
   "cell_type": "code",
   "execution_count": 133,
   "metadata": {},
   "outputs": [],
   "source": [
    "## create dummy variables\n",
    "## create dummy variable\n",
    "gender_dummy = pd.get_dummies(mark_test['gender'],drop_first = True)\n",
    "ethnicity_dummy = pd.get_dummies(mark_test['ethnicity'],drop_first = True)\n",
    "parental_dummy = pd.get_dummies(mark_test['parental level of education'],drop_first = True)\n",
    "lunch_dummy = pd.get_dummies(mark_test['lunch'],drop_first = True)\n",
    "course_dummy = pd.get_dummies(mark_test['test preparation course'],drop_first = True)\n"
   ]
  },
  {
   "cell_type": "code",
   "execution_count": 134,
   "metadata": {},
   "outputs": [],
   "source": [
    "## concate along column wise \n",
    "mark_test = pd.concat([mark_test,gender_dummy,ethnicity_dummy,parental_dummy,lunch_dummy,course_dummy],axis = 1)"
   ]
  },
  {
   "cell_type": "code",
   "execution_count": 135,
   "metadata": {},
   "outputs": [],
   "source": [
    "mark_test = mark_test.drop(['gender', 'ethnicity','parental level of education','lunch','test preparation course'], axis=1)"
   ]
  },
  {
   "cell_type": "code",
   "execution_count": 136,
   "metadata": {},
   "outputs": [
    {
     "data": {
      "text/html": [
       "<div>\n",
       "<style scoped>\n",
       "    .dataframe tbody tr th:only-of-type {\n",
       "        vertical-align: middle;\n",
       "    }\n",
       "\n",
       "    .dataframe tbody tr th {\n",
       "        vertical-align: top;\n",
       "    }\n",
       "\n",
       "    .dataframe thead th {\n",
       "        text-align: right;\n",
       "    }\n",
       "</style>\n",
       "<table border=\"1\" class=\"dataframe\">\n",
       "  <thead>\n",
       "    <tr style=\"text-align: right;\">\n",
       "      <th></th>\n",
       "      <th>reading score</th>\n",
       "      <th>writing score</th>\n",
       "      <th>male</th>\n",
       "      <th>group B</th>\n",
       "      <th>group C</th>\n",
       "      <th>group D</th>\n",
       "      <th>group E</th>\n",
       "      <th>bachelor's degree</th>\n",
       "      <th>high school</th>\n",
       "      <th>master's degree</th>\n",
       "      <th>some college</th>\n",
       "      <th>some high school</th>\n",
       "      <th>standard</th>\n",
       "      <th>none</th>\n",
       "    </tr>\n",
       "  </thead>\n",
       "  <tbody>\n",
       "    <tr>\n",
       "      <th>0</th>\n",
       "      <td>0.602410</td>\n",
       "      <td>0.688889</td>\n",
       "      <td>0</td>\n",
       "      <td>0</td>\n",
       "      <td>1</td>\n",
       "      <td>0</td>\n",
       "      <td>0</td>\n",
       "      <td>0</td>\n",
       "      <td>0</td>\n",
       "      <td>0</td>\n",
       "      <td>1</td>\n",
       "      <td>0</td>\n",
       "      <td>1</td>\n",
       "      <td>1</td>\n",
       "    </tr>\n",
       "    <tr>\n",
       "      <th>1</th>\n",
       "      <td>0.518072</td>\n",
       "      <td>0.544444</td>\n",
       "      <td>1</td>\n",
       "      <td>0</td>\n",
       "      <td>0</td>\n",
       "      <td>0</td>\n",
       "      <td>1</td>\n",
       "      <td>0</td>\n",
       "      <td>0</td>\n",
       "      <td>0</td>\n",
       "      <td>1</td>\n",
       "      <td>0</td>\n",
       "      <td>1</td>\n",
       "      <td>1</td>\n",
       "    </tr>\n",
       "    <tr>\n",
       "      <th>2</th>\n",
       "      <td>0.915663</td>\n",
       "      <td>0.944444</td>\n",
       "      <td>0</td>\n",
       "      <td>0</td>\n",
       "      <td>1</td>\n",
       "      <td>0</td>\n",
       "      <td>0</td>\n",
       "      <td>1</td>\n",
       "      <td>0</td>\n",
       "      <td>0</td>\n",
       "      <td>0</td>\n",
       "      <td>0</td>\n",
       "      <td>1</td>\n",
       "      <td>1</td>\n",
       "    </tr>\n",
       "    <tr>\n",
       "      <th>3</th>\n",
       "      <td>0.373494</td>\n",
       "      <td>0.400000</td>\n",
       "      <td>1</td>\n",
       "      <td>0</td>\n",
       "      <td>0</td>\n",
       "      <td>1</td>\n",
       "      <td>0</td>\n",
       "      <td>0</td>\n",
       "      <td>0</td>\n",
       "      <td>0</td>\n",
       "      <td>0</td>\n",
       "      <td>0</td>\n",
       "      <td>1</td>\n",
       "      <td>1</td>\n",
       "    </tr>\n",
       "    <tr>\n",
       "      <th>4</th>\n",
       "      <td>0.710843</td>\n",
       "      <td>0.777778</td>\n",
       "      <td>0</td>\n",
       "      <td>1</td>\n",
       "      <td>0</td>\n",
       "      <td>0</td>\n",
       "      <td>0</td>\n",
       "      <td>0</td>\n",
       "      <td>0</td>\n",
       "      <td>0</td>\n",
       "      <td>0</td>\n",
       "      <td>0</td>\n",
       "      <td>1</td>\n",
       "      <td>1</td>\n",
       "    </tr>\n",
       "  </tbody>\n",
       "</table>\n",
       "</div>"
      ],
      "text/plain": [
       "   reading score  writing score  male  group B  group C  group D  group E  \\\n",
       "0       0.602410       0.688889     0        0        1        0        0   \n",
       "1       0.518072       0.544444     1        0        0        0        1   \n",
       "2       0.915663       0.944444     0        0        1        0        0   \n",
       "3       0.373494       0.400000     1        0        0        1        0   \n",
       "4       0.710843       0.777778     0        1        0        0        0   \n",
       "\n",
       "   bachelor's degree  high school  master's degree  some college  \\\n",
       "0                  0            0                0             1   \n",
       "1                  0            0                0             1   \n",
       "2                  1            0                0             0   \n",
       "3                  0            0                0             0   \n",
       "4                  0            0                0             0   \n",
       "\n",
       "   some high school  standard  none  \n",
       "0                 0         1     1  \n",
       "1                 0         1     1  \n",
       "2                 0         1     1  \n",
       "3                 0         1     1  \n",
       "4                 0         1     1  "
      ]
     },
     "execution_count": 136,
     "metadata": {},
     "output_type": "execute_result"
    }
   ],
   "source": [
    "mark_test.head()"
   ]
  },
  {
   "cell_type": "code",
   "execution_count": 137,
   "metadata": {},
   "outputs": [],
   "source": [
    "mark_test = mark_test[['reading score', 'writing score',  'group D', 'high school', 'some high school', 'standard']]"
   ]
  },
  {
   "cell_type": "code",
   "execution_count": 138,
   "metadata": {},
   "outputs": [
    {
     "data": {
      "text/html": [
       "<div>\n",
       "<style scoped>\n",
       "    .dataframe tbody tr th:only-of-type {\n",
       "        vertical-align: middle;\n",
       "    }\n",
       "\n",
       "    .dataframe tbody tr th {\n",
       "        vertical-align: top;\n",
       "    }\n",
       "\n",
       "    .dataframe thead th {\n",
       "        text-align: right;\n",
       "    }\n",
       "</style>\n",
       "<table border=\"1\" class=\"dataframe\">\n",
       "  <thead>\n",
       "    <tr style=\"text-align: right;\">\n",
       "      <th></th>\n",
       "      <th>reading score</th>\n",
       "      <th>writing score</th>\n",
       "      <th>group D</th>\n",
       "      <th>high school</th>\n",
       "      <th>some high school</th>\n",
       "      <th>standard</th>\n",
       "    </tr>\n",
       "  </thead>\n",
       "  <tbody>\n",
       "    <tr>\n",
       "      <th>0</th>\n",
       "      <td>0.602410</td>\n",
       "      <td>0.688889</td>\n",
       "      <td>0</td>\n",
       "      <td>0</td>\n",
       "      <td>0</td>\n",
       "      <td>1</td>\n",
       "    </tr>\n",
       "    <tr>\n",
       "      <th>1</th>\n",
       "      <td>0.518072</td>\n",
       "      <td>0.544444</td>\n",
       "      <td>0</td>\n",
       "      <td>0</td>\n",
       "      <td>0</td>\n",
       "      <td>1</td>\n",
       "    </tr>\n",
       "    <tr>\n",
       "      <th>2</th>\n",
       "      <td>0.915663</td>\n",
       "      <td>0.944444</td>\n",
       "      <td>0</td>\n",
       "      <td>0</td>\n",
       "      <td>0</td>\n",
       "      <td>1</td>\n",
       "    </tr>\n",
       "    <tr>\n",
       "      <th>3</th>\n",
       "      <td>0.373494</td>\n",
       "      <td>0.400000</td>\n",
       "      <td>1</td>\n",
       "      <td>0</td>\n",
       "      <td>0</td>\n",
       "      <td>1</td>\n",
       "    </tr>\n",
       "    <tr>\n",
       "      <th>4</th>\n",
       "      <td>0.710843</td>\n",
       "      <td>0.777778</td>\n",
       "      <td>0</td>\n",
       "      <td>0</td>\n",
       "      <td>0</td>\n",
       "      <td>1</td>\n",
       "    </tr>\n",
       "  </tbody>\n",
       "</table>\n",
       "</div>"
      ],
      "text/plain": [
       "   reading score  writing score  group D  high school  some high school  \\\n",
       "0       0.602410       0.688889        0            0                 0   \n",
       "1       0.518072       0.544444        0            0                 0   \n",
       "2       0.915663       0.944444        0            0                 0   \n",
       "3       0.373494       0.400000        1            0                 0   \n",
       "4       0.710843       0.777778        0            0                 0   \n",
       "\n",
       "   standard  \n",
       "0         1  \n",
       "1         1  \n",
       "2         1  \n",
       "3         1  \n",
       "4         1  "
      ]
     },
     "execution_count": 138,
     "metadata": {},
     "output_type": "execute_result"
    }
   ],
   "source": [
    "mark_test.head()"
   ]
  },
  {
   "cell_type": "code",
   "execution_count": 139,
   "metadata": {},
   "outputs": [
    {
     "data": {
      "text/html": [
       "<div>\n",
       "<style scoped>\n",
       "    .dataframe tbody tr th:only-of-type {\n",
       "        vertical-align: middle;\n",
       "    }\n",
       "\n",
       "    .dataframe tbody tr th {\n",
       "        vertical-align: top;\n",
       "    }\n",
       "\n",
       "    .dataframe thead th {\n",
       "        text-align: right;\n",
       "    }\n",
       "</style>\n",
       "<table border=\"1\" class=\"dataframe\">\n",
       "  <thead>\n",
       "    <tr style=\"text-align: right;\">\n",
       "      <th></th>\n",
       "      <th>reading score</th>\n",
       "      <th>writing score</th>\n",
       "      <th>group D</th>\n",
       "      <th>high school</th>\n",
       "      <th>some high school</th>\n",
       "      <th>standard</th>\n",
       "    </tr>\n",
       "  </thead>\n",
       "  <tbody>\n",
       "    <tr>\n",
       "      <th>517</th>\n",
       "      <td>0.753247</td>\n",
       "      <td>0.682353</td>\n",
       "      <td>0</td>\n",
       "      <td>1</td>\n",
       "      <td>0</td>\n",
       "      <td>1</td>\n",
       "    </tr>\n",
       "    <tr>\n",
       "      <th>196</th>\n",
       "      <td>0.714286</td>\n",
       "      <td>0.611765</td>\n",
       "      <td>0</td>\n",
       "      <td>0</td>\n",
       "      <td>0</td>\n",
       "      <td>0</td>\n",
       "    </tr>\n",
       "    <tr>\n",
       "      <th>551</th>\n",
       "      <td>0.558442</td>\n",
       "      <td>0.564706</td>\n",
       "      <td>0</td>\n",
       "      <td>0</td>\n",
       "      <td>1</td>\n",
       "      <td>1</td>\n",
       "    </tr>\n",
       "    <tr>\n",
       "      <th>250</th>\n",
       "      <td>0.402597</td>\n",
       "      <td>0.352941</td>\n",
       "      <td>0</td>\n",
       "      <td>0</td>\n",
       "      <td>0</td>\n",
       "      <td>0</td>\n",
       "    </tr>\n",
       "    <tr>\n",
       "      <th>68</th>\n",
       "      <td>0.818182</td>\n",
       "      <td>0.858824</td>\n",
       "      <td>0</td>\n",
       "      <td>0</td>\n",
       "      <td>0</td>\n",
       "      <td>0</td>\n",
       "    </tr>\n",
       "  </tbody>\n",
       "</table>\n",
       "</div>"
      ],
      "text/plain": [
       "     reading score  writing score  group D  high school  some high school  \\\n",
       "517       0.753247       0.682353        0            1                 0   \n",
       "196       0.714286       0.611765        0            0                 0   \n",
       "551       0.558442       0.564706        0            0                 1   \n",
       "250       0.402597       0.352941        0            0                 0   \n",
       "68        0.818182       0.858824        0            0                 0   \n",
       "\n",
       "     standard  \n",
       "517         1  \n",
       "196         0  \n",
       "551         1  \n",
       "250         0  \n",
       "68          0  "
      ]
     },
     "execution_count": 139,
     "metadata": {},
     "output_type": "execute_result"
    }
   ],
   "source": [
    "x_train_new.head()"
   ]
  },
  {
   "cell_type": "code",
   "execution_count": 140,
   "metadata": {},
   "outputs": [
    {
     "data": {
      "text/plain": [
       "(525, 6)"
      ]
     },
     "execution_count": 140,
     "metadata": {},
     "output_type": "execute_result"
    }
   ],
   "source": [
    "x_train_new.shape"
   ]
  },
  {
   "cell_type": "code",
   "execution_count": 142,
   "metadata": {},
   "outputs": [],
   "source": [
    "y_predict = model.predict(mark_test)"
   ]
  },
  {
   "cell_type": "code",
   "execution_count": null,
   "metadata": {},
   "outputs": [],
   "source": []
  },
  {
   "cell_type": "code",
   "execution_count": 145,
   "metadata": {},
   "outputs": [
    {
     "name": "stdout",
     "output_type": "stream",
     "text": [
      "[68.4151998  61.9981314  87.82334334 53.005766   75.14013666 90.36481195\n",
      " 59.53149996 75.10630829 79.48897944 71.93370594 75.44800512 69.13960226\n",
      " 69.57743307 85.52334221 56.61893053 57.9233287  64.85590467 82.22681137\n",
      " 61.69026294 61.86532946 77.26507127 76.1908247  78.14069279 79.24180711\n",
      " 49.32053577 53.63680595 40.05139893 56.41686237 62.91860825 42.94573194\n",
      " 48.96479168 63.68527529 70.64908888 64.69081907 82.28160753 76.39846381\n",
      " 76.9813392  75.5328232  74.79000362 65.23290546 70.51628695 56.29264495\n",
      " 69.34724137 58.14353948 53.87266239 79.23907575 60.63986383 68.0412193\n",
      " 71.02306938 57.02414864 60.46479731 72.97566884 67.53986721 86.53147674\n",
      " 77.51785464 64.64826556 68.94068828 60.84750294 76.18372347 84.93174169\n",
      " 70.50918572 67.98897381 70.19561242 58.4541393  83.99000813 61.03514113\n",
      " 65.24547713 79.18111098 68.59055524 61.82306488 79.00604447 56.19367139\n",
      " 72.4900025  43.46820013 61.3401299  69.83986833 74.83514789 78.30007355\n",
      " 45.72305699 64.36726486 66.64068715 75.14013666 74.93124177 75.05833887\n",
      " 54.0590448  53.32332645 57.68186121 80.1171397  69.81861163 68.52674503\n",
      " 80.33173944 88.41494386 71.09790656 72.94909001 80.19922643 36.07830116\n",
      " 61.27401786 65.48133357 51.91026273 78.30850976 69.91499444 53.77243305\n",
      " 71.51444056 77.1168725  70.25640234 75.55667067 70.88057546 42.38670401\n",
      " 65.17634479 54.81155636 71.96480294 39.12808248 69.4897353  71.03438527\n",
      " 52.7952873  85.65614415 60.61860712 69.31740015 58.19736878 66.5107649\n",
      " 59.69116965 53.43228092 51.58670852 67.23487843 75.20653763 76.32333771\n",
      " 70.9171352  55.29449134 69.8850126  42.1186577  81.690007   67.21103097\n",
      " 66.99341095 93.22258523 38.72843532 67.71493373 58.94277912 68.82477319\n",
      " 44.34353272 83.57347412 62.21834218 70.63067176 76.76673947 71.96480294\n",
      " 34.5944812  55.59511025 81.03200551 65.80761914 78.53597008 70.3015466\n",
      " 57.04799611 74.06848084 67.44961878 76.63964237 50.61240236 48.67822003\n",
      " 47.78159063 51.81128916 81.51494048 64.123066   64.93487731 79.65277016\n",
      " 76.49840423 50.30180254 75.71048048 73.25666954 76.99265509 68.66798318\n",
      " 66.30158108 60.4252641  80.04800737 63.54278137 44.38608623 71.17687919\n",
      " 72.2090018  51.66879524 71.85613739 68.30653425 74.08973755 34.18351815\n",
      " 56.74300733 69.13960226 66.28330457 65.05783894 66.31713295 66.7067992\n",
      " 57.61574917 57.88379548 60.00599873 66.29314487 92.66481308 61.06771372\n",
      " 80.44040499 75.59922417 80.47297758 57.33733922 65.26673384 81.77482509\n",
      " 91.27271714 81.74944735 75.62307163 62.87375291 56.38999461 81.73256051\n",
      " 83.07514232 69.60971674 70.35810727 53.92053802 72.73146998 44.10206524\n",
      " 73.47688032 63.61887432 76.84882619 53.6311949  65.66771598 63.44121705\n",
      " 65.94013216 67.60626818 51.34961089 74.7928833  72.68636582 85.48107763\n",
      " 72.42360153 54.64776564 67.64853276 64.93199763 61.82306488 81.75640797\n",
      " 60.33487506 57.75698731 51.98635568 62.98500922 46.50103992 75.84328242\n",
      " 56.28406043 64.56060788 76.53097682 77.92307276 68.49291666 64.54803622\n",
      " 53.78500471 79.85168414 44.76006673 67.58501147 59.89449359 58.19166394\n",
      " 84.6902742  57.30788071 77.31021553 43.81833317 57.93205383 65.97270475\n",
      " 77.6477769  81.83124515 55.49081456 61.6113304  88.25119323 71.55114862\n",
      " 61.29502574 59.46797867 48.4606     70.54013441 21.78692322 48.05563071\n",
      " 78.44827232 75.20653763 56.91807385 78.3157593  72.99135459 73.15672912\n",
      " 80.3768837  72.24157439 70.06007912 38.87092924 52.0583276  71.51444056\n",
      " 57.11439708 63.31686575 59.43540608 56.91807385 66.09423089 48.28582241\n",
      " 62.23959888 60.74852938 77.92307276 81.61391405 65.06479956 74.02333658\n",
      " 65.66512522 75.09787208 71.71637484 60.61860712 53.40377467 51.96793856\n",
      " 57.20180592 78.16454025 62.4146654  63.58245519 93.22258523 70.4076214 ]\n"
     ]
    }
   ],
   "source": [
    "print(y_predict)"
   ]
  },
  {
   "cell_type": "code",
   "execution_count": 146,
   "metadata": {},
   "outputs": [],
   "source": [
    "output1 = pd.DataFrame(y_predict,columns= ['math score'])"
   ]
  },
  {
   "cell_type": "code",
   "execution_count": 147,
   "metadata": {},
   "outputs": [
    {
     "data": {
      "text/html": [
       "<div>\n",
       "<style scoped>\n",
       "    .dataframe tbody tr th:only-of-type {\n",
       "        vertical-align: middle;\n",
       "    }\n",
       "\n",
       "    .dataframe tbody tr th {\n",
       "        vertical-align: top;\n",
       "    }\n",
       "\n",
       "    .dataframe thead th {\n",
       "        text-align: right;\n",
       "    }\n",
       "</style>\n",
       "<table border=\"1\" class=\"dataframe\">\n",
       "  <thead>\n",
       "    <tr style=\"text-align: right;\">\n",
       "      <th></th>\n",
       "      <th>math score</th>\n",
       "    </tr>\n",
       "  </thead>\n",
       "  <tbody>\n",
       "    <tr>\n",
       "      <th>0</th>\n",
       "      <td>68.415200</td>\n",
       "    </tr>\n",
       "    <tr>\n",
       "      <th>1</th>\n",
       "      <td>61.998131</td>\n",
       "    </tr>\n",
       "    <tr>\n",
       "      <th>2</th>\n",
       "      <td>87.823343</td>\n",
       "    </tr>\n",
       "    <tr>\n",
       "      <th>3</th>\n",
       "      <td>53.005766</td>\n",
       "    </tr>\n",
       "    <tr>\n",
       "      <th>4</th>\n",
       "      <td>75.140137</td>\n",
       "    </tr>\n",
       "    <tr>\n",
       "      <th>...</th>\n",
       "      <td>...</td>\n",
       "    </tr>\n",
       "    <tr>\n",
       "      <th>295</th>\n",
       "      <td>78.164540</td>\n",
       "    </tr>\n",
       "    <tr>\n",
       "      <th>296</th>\n",
       "      <td>62.414665</td>\n",
       "    </tr>\n",
       "    <tr>\n",
       "      <th>297</th>\n",
       "      <td>63.582455</td>\n",
       "    </tr>\n",
       "    <tr>\n",
       "      <th>298</th>\n",
       "      <td>93.222585</td>\n",
       "    </tr>\n",
       "    <tr>\n",
       "      <th>299</th>\n",
       "      <td>70.407621</td>\n",
       "    </tr>\n",
       "  </tbody>\n",
       "</table>\n",
       "<p>300 rows × 1 columns</p>\n",
       "</div>"
      ],
      "text/plain": [
       "     math score\n",
       "0     68.415200\n",
       "1     61.998131\n",
       "2     87.823343\n",
       "3     53.005766\n",
       "4     75.140137\n",
       "..          ...\n",
       "295   78.164540\n",
       "296   62.414665\n",
       "297   63.582455\n",
       "298   93.222585\n",
       "299   70.407621\n",
       "\n",
       "[300 rows x 1 columns]"
      ]
     },
     "execution_count": 147,
     "metadata": {},
     "output_type": "execute_result"
    }
   ],
   "source": [
    "output1"
   ]
  },
  {
   "cell_type": "code",
   "execution_count": 149,
   "metadata": {},
   "outputs": [],
   "source": [
    "output1.to_csv(r\"C:\\Users\\Administrator\\Desktop\\output.csv\")\n"
   ]
  },
  {
   "cell_type": "code",
   "execution_count": null,
   "metadata": {},
   "outputs": [],
   "source": [
    "output = pd.concat([mark_test,output1],axis = 1)"
   ]
  },
  {
   "cell_type": "code",
   "execution_count": null,
   "metadata": {},
   "outputs": [],
   "source": [
    "output.head()"
   ]
  },
  {
   "cell_type": "code",
   "execution_count": null,
   "metadata": {},
   "outputs": [],
   "source": [
    "output['idx'] = "
   ]
  }
 ],
 "metadata": {
  "kernelspec": {
   "display_name": "Python 3",
   "language": "python",
   "name": "python3"
  },
  "language_info": {
   "codemirror_mode": {
    "name": "ipython",
    "version": 3
   },
   "file_extension": ".py",
   "mimetype": "text/x-python",
   "name": "python",
   "nbconvert_exporter": "python",
   "pygments_lexer": "ipython3",
   "version": "3.8.3"
  }
 },
 "nbformat": 4,
 "nbformat_minor": 4
}
